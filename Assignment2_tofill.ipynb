{
 "cells": [
  {
   "cell_type": "markdown",
   "metadata": {},
   "source": [
    "# Assignment 2\n",
    "\n",
    "To be delivered until 2022/01/24 23:59:59."
   ]
  },
  {
   "cell_type": "markdown",
   "metadata": {},
   "source": [
    "## 1) Arduino\n",
    "\n",
    "You will start by setting up a series of connections in order to extract some data with the Arduino. First make the connections as shown below. **Mind the direction of the temperature sensor. If you have an incorrect position, you will be connection the power to the ground and vice-versa and you will damage the sensor.** The photoresistor sensor on the other hand has no polarity.\n",
    "\n",
    "<img src=\"temp_photo_cropped.png\" width=1000/>\n",
    "\n",
    "On this problem, you will read temperature and luminance from the sensors and print them on the serial.\n",
    "\n",
    "**1)** Code an Arduino sketch, where the value of temperature and luminance are printed to the serial. For each serial print that you make, print the value of temperature, then a semicolon, then the value of luminance with a new line (use no whitespaces). You can do this by using three separate `Serial.print`, with the last one being a `Serial.println`. Print values 5 times per second (use the delay function to control this). Manually influence the readings of the sensors, by covering the photoresistor or shining light on it, and by lightly and carefully touching the temperature sensor to increase its temperature readings.\n",
    "\n",
    "**Note that the temperature sensor appears not to be very reliable. Since the objective of this exercise is just to plot the results, this should not be an issue.**\n",
    "\n",
    "**Copy and paste your arduino code below. You may use a python code cell, even though the code can not be run.**\n",
    "\n",
    "*Hint: for the temperature value to be in celsius, divide the read value by 1024 and multiply it by 500. The luminance does not have to be converted*"
   ]
  },
  {
   "cell_type": "code",
   "execution_count": null,
   "metadata": {},
   "outputs": [],
   "source": []
  },
  {
   "cell_type": "markdown",
   "metadata": {},
   "source": [
    "To import the data into Arduino, keep it running (the Serial Monitor must be closed in Arduino) and run the following code. Change the COM port to your own. This block of code will read 1000 values from the Serial. Given that each observation is taken every 0.2 seconds, it should take a minute and a half."
   ]
  },
  {
   "cell_type": "code",
   "execution_count": 6,
   "metadata": {},
   "outputs": [],
   "source": [
    "import serial\n",
    "import time\n",
    "\n",
    "ser = serial.Serial('/dev/cu.usbmodem1401', 9600, timeout=1)\n",
    "time.sleep(2)\n",
    "\n",
    "data = []\n",
    "for i in range(500):\n",
    "    line = ser.readline()\n",
    "    if line:\n",
    "        string = line.decode()\n",
    "        data.append(string)\n",
    "\n",
    "ser.close()"
   ]
  },
  {
   "cell_type": "markdown",
   "metadata": {},
   "source": [
    "Convert the data into a pandas dataframe and save it in a csv file. Besides the value of temperature and luminance, also include the time, considering the first observation at $t=0$ and every observation 0.2 seconds after the previous one. **The file must be submitted in Fenix and included in your Github repo**."
   ]
  },
  {
   "cell_type": "code",
<<<<<<< HEAD
   "execution_count": 11,
   "metadata": {},
   "outputs": [
    {
     "data": {
      "text/html": [
       "<div>\n",
       "<style scoped>\n",
       "    .dataframe tbody tr th:only-of-type {\n",
       "        vertical-align: middle;\n",
       "    }\n",
       "\n",
       "    .dataframe tbody tr th {\n",
       "        vertical-align: top;\n",
       "    }\n",
       "\n",
       "    .dataframe thead th {\n",
       "        text-align: right;\n",
       "    }\n",
       "</style>\n",
       "<table border=\"1\" class=\"dataframe\">\n",
       "  <thead>\n",
       "    <tr style=\"text-align: right;\">\n",
       "      <th></th>\n",
       "      <th>0</th>\n",
       "    </tr>\n",
       "  </thead>\n",
       "  <tbody>\n",
       "    <tr>\n",
       "      <th>0</th>\n",
       "      <td>549;19\\r\\n</td>\n",
       "    </tr>\n",
       "    <tr>\n",
       "      <th>1</th>\n",
       "      <td>549;18\\r\\n</td>\n",
       "    </tr>\n",
       "    <tr>\n",
       "      <th>2</th>\n",
       "      <td>549;18\\r\\n</td>\n",
       "    </tr>\n",
       "    <tr>\n",
       "      <th>3</th>\n",
       "      <td>548;19\\r\\n</td>\n",
       "    </tr>\n",
       "    <tr>\n",
       "      <th>4</th>\n",
       "      <td>548;19\\r\\n</td>\n",
       "    </tr>\n",
       "    <tr>\n",
       "      <th>...</th>\n",
       "      <td>...</td>\n",
       "    </tr>\n",
       "    <tr>\n",
       "      <th>495</th>\n",
       "      <td>539;18\\r\\n</td>\n",
       "    </tr>\n",
       "    <tr>\n",
       "      <th>496</th>\n",
       "      <td>538;18\\r\\n</td>\n",
       "    </tr>\n",
       "    <tr>\n",
       "      <th>497</th>\n",
       "      <td>538;18\\r\\n</td>\n",
       "    </tr>\n",
       "    <tr>\n",
       "      <th>498</th>\n",
       "      <td>537;18\\r\\n</td>\n",
       "    </tr>\n",
       "    <tr>\n",
       "      <th>499</th>\n",
       "      <td>538;18\\r\\n</td>\n",
       "    </tr>\n",
       "  </tbody>\n",
       "</table>\n",
       "<p>500 rows × 1 columns</p>\n",
       "</div>"
      ],
      "text/plain": [
       "              0\n",
       "0    549;19\\r\\n\n",
       "1    549;18\\r\\n\n",
       "2    549;18\\r\\n\n",
       "3    548;19\\r\\n\n",
       "4    548;19\\r\\n\n",
       "..          ...\n",
       "495  539;18\\r\\n\n",
       "496  538;18\\r\\n\n",
       "497  538;18\\r\\n\n",
       "498  537;18\\r\\n\n",
       "499  538;18\\r\\n\n",
       "\n",
       "[500 rows x 1 columns]"
      ]
     },
     "execution_count": 11,
     "metadata": {},
     "output_type": "execute_result"
    }
   ],
   "source": [
    "import pandas as pd\n",
    "\n",
    "data = pd.DataFrame(data=data)\n"
=======
   "execution_count": 29,
   "metadata": {},
   "outputs": [
    {
     "name": "stdout",
     "output_type": "stream",
     "text": [
      "500\n"
     ]
    }
   ],
   "source": [
    "time = [x*0.2 for x in range(0,len(data))]\n",
    "print(len(data))"
>>>>>>> Luis
   ]
  },
  {
   "cell_type": "code",
<<<<<<< HEAD
   "execution_count": 12,
   "metadata": {},
   "outputs": [
    {
     "data": {
      "text/plain": [
       "'0\\n\"549;19\\r\\n\"\\n\"549;18\\r\\n\"\\n\"549;18\\r\\n\"\\n\"548;19\\r\\n\"\\n\"548;19\\r\\n\"\\n\"547;18\\r\\n\"\\n\"546;19\\r\\n\"\\n\"545;18\\r\\n\"\\n\"545;18\\r\\n\"\\n\"545;18\\r\\n\"\\n\"546;18\\r\\n\"\\n\"546;18\\r\\n\"\\n\"547;18\\r\\n\"\\n\"548;19\\r\\n\"\\n\"549;19\\r\\n\"\\n\"549;18\\r\\n\"\\n\"549;18\\r\\n\"\\n\"549;19\\r\\n\"\\n\"548;18\\r\\n\"\\n\"548;18\\r\\n\"\\n\"548;18\\r\\n\"\\n\"547;18\\r\\n\"\\n\"547;18\\r\\n\"\\n\"547;18\\r\\n\"\\n\"547;18\\r\\n\"\\n\"546;18\\r\\n\"\\n\"546;18\\r\\n\"\\n\"547;19\\r\\n\"\\n\"548;18\\r\\n\"\\n\"548;19\\r\\n\"\\n\"549;19\\r\\n\"\\n\"549;19\\r\\n\"\\n\"548;18\\r\\n\"\\n\"547;18\\r\\n\"\\n\"546;19\\r\\n\"\\n\"545;19\\r\\n\"\\n\"545;18\\r\\n\"\\n\"545;19\\r\\n\"\\n\"544;18\\r\\n\"\\n\"544;18\\r\\n\"\\n\"544;18\\r\\n\"\\n\"545;18\\r\\n\"\\n\"546;18\\r\\n\"\\n\"547;18\\r\\n\"\\n\"547;19\\r\\n\"\\n\"548;18\\r\\n\"\\n\"548;18\\r\\n\"\\n\"547;18\\r\\n\"\\n\"546;18\\r\\n\"\\n\"546;18\\r\\n\"\\n\"545;18\\r\\n\"\\n\"544;18\\r\\n\"\\n\"544;18\\r\\n\"\\n\"544;18\\r\\n\"\\n\"544;18\\r\\n\"\\n\"545;19\\r\\n\"\\n\"546;18\\r\\n\"\\n\"547;18\\r\\n\"\\n\"548;18\\r\\n\"\\n\"548;18\\r\\n\"\\n\"549;19\\r\\n\"\\n\"549;19\\r\\n\"\\n\"548;18\\r\\n\"\\n\"547;19\\r\\n\"\\n\"547;18\\r\\n\"\\n\"546;19\\r\\n\"\\n\"545;18\\r\\n\"\\n\"545;18\\r\\n\"\\n\"544;18\\r\\n\"\\n\"544;19\\r\\n\"\\n\"545;18\\r\\n\"\\n\"546;18\\r\\n\"\\n\"547;18\\r\\n\"\\n\"548;19\\r\\n\"\\n\"548;18\\r\\n\"\\n\"549;18\\r\\n\"\\n\"549;18\\r\\n\"\\n\"548;18\\r\\n\"\\n\"547;18\\r\\n\"\\n\"546;18\\r\\n\"\\n\"545;18\\r\\n\"\\n\"513;17\\r\\n\"\\n\"436;17\\r\\n\"\\n\"274;21\\r\\n\"\\n\"240;21\\r\\n\"\\n\"244;21\\r\\n\"\\n\"248;21\\r\\n\"\\n\"251;21\\r\\n\"\\n\"250;21\\r\\n\"\\n\"251;21\\r\\n\"\\n\"253;21\\r\\n\"\\n\"255;21\\r\\n\"\\n\"254;21\\r\\n\"\\n\"255;21\\r\\n\"\\n\"256;21\\r\\n\"\\n\"256;21\\r\\n\"\\n\"255;21\\r\\n\"\\n\"255;21\\r\\n\"\\n\"337;19\\r\\n\"\\n\"545;18\\r\\n\"\\n\"547;18\\r\\n\"\\n\"546;18\\r\\n\"\\n\"546;19\\r\\n\"\\n\"546;18\\r\\n\"\\n\"547;18\\r\\n\"\\n\"546;19\\r\\n\"\\n\"545;18\\r\\n\"\\n\"544;19\\r\\n\"\\n\"543;18\\r\\n\"\\n\"545;18\\r\\n\"\\n\"543;19\\r\\n\"\\n\"543;19\\r\\n\"\\n\"542;19\\r\\n\"\\n\"541;19\\r\\n\"\\n\"541;19\\r\\n\"\\n\"540;19\\r\\n\"\\n\"539;19\\r\\n\"\\n\"538;20\\r\\n\"\\n\"528;21\\r\\n\"\\n\"382;22\\r\\n\"\\n\"227;25\\r\\n\"\\n\"462;21\\r\\n\"\\n\"540;20\\r\\n\"\\n\"541;20\\r\\n\"\\n\"540;21\\r\\n\"\\n\"539;21\\r\\n\"\\n\"539;21\\r\\n\"\\n\"538;21\\r\\n\"\\n\"538;21\\r\\n\"\\n\"537;21\\r\\n\"\\n\"536;21\\r\\n\"\\n\"537;21\\r\\n\"\\n\"538;21\\r\\n\"\\n\"539;21\\r\\n\"\\n\"541;21\\r\\n\"\\n\"542;21\\r\\n\"\\n\"542;21\\r\\n\"\\n\"542;21\\r\\n\"\\n\"541;21\\r\\n\"\\n\"541;22\\r\\n\"\\n\"541;22\\r\\n\"\\n\"540;22\\r\\n\"\\n\"539;22\\r\\n\"\\n\"538;22\\r\\n\"\\n\"538;22\\r\\n\"\\n\"538;22\\r\\n\"\\n\"538;22\\r\\n\"\\n\"538;22\\r\\n\"\\n\"534;22\\r\\n\"\\n\"464;24\\r\\n\"\\n\"303;27\\r\\n\"\\n\"207;28\\r\\n\"\\n\"214;28\\r\\n\"\\n\"217;28\\r\\n\"\\n\"221;28\\r\\n\"\\n\"225;28\\r\\n\"\\n\"229;28\\r\\n\"\\n\"230;28\\r\\n\"\\n\"228;28\\r\\n\"\\n\"229;28\\r\\n\"\\n\"228;28\\r\\n\"\\n\"229;28\\r\\n\"\\n\"227;28\\r\\n\"\\n\"228;28\\r\\n\"\\n\"227;28\\r\\n\"\\n\"228;28\\r\\n\"\\n\"228;28\\r\\n\"\\n\"226;28\\r\\n\"\\n\"228;28\\r\\n\"\\n\"229;28\\r\\n\"\\n\"229;28\\r\\n\"\\n\"229;28\\r\\n\"\\n\"225;28\\r\\n\"\\n\"225;28\\r\\n\"\\n\"228;28\\r\\n\"\\n\"227;28\\r\\n\"\\n\"225;28\\r\\n\"\\n\"224;28\\r\\n\"\\n\"226;28\\r\\n\"\\n\"226;28\\r\\n\"\\n\"227;28\\r\\n\"\\n\"226;28\\r\\n\"\\n\"226;28\\r\\n\"\\n\"227;28\\r\\n\"\\n\"227;28\\r\\n\"\\n\"227;28\\r\\n\"\\n\"226;28\\r\\n\"\\n\"226;28\\r\\n\"\\n\"227;28\\r\\n\"\\n\"227;28\\r\\n\"\\n\"227;28\\r\\n\"\\n\"227;28\\r\\n\"\\n\"226;28\\r\\n\"\\n\"228;28\\r\\n\"\\n\"228;28\\r\\n\"\\n\"229;28\\r\\n\"\\n\"227;28\\r\\n\"\\n\"227;28\\r\\n\"\\n\"225;28\\r\\n\"\\n\"303;28\\r\\n\"\\n\"543;23\\r\\n\"\\n\"546;23\\r\\n\"\\n\"547;23\\r\\n\"\\n\"548;23\\r\\n\"\\n\"548;23\\r\\n\"\\n\"548;23\\r\\n\"\\n\"547;23\\r\\n\"\\n\"547;22\\r\\n\"\\n\"547;22\\r\\n\"\\n\"546;22\\r\\n\"\\n\"545;22\\r\\n\"\\n\"545;22\\r\\n\"\\n\"544;22\\r\\n\"\\n\"543;22\\r\\n\"\\n\"543;22\\r\\n\"\\n\"543;22\\r\\n\"\\n\"544;22\\r\\n\"\\n\"544;21\\r\\n\"\\n\"544;21\\r\\n\"\\n\"545;21\\r\\n\"\\n\"546;21\\r\\n\"\\n\"547;21\\r\\n\"\\n\"547;21\\r\\n\"\\n\"547;21\\r\\n\"\\n\"547;21\\r\\n\"\\n\"547;21\\r\\n\"\\n\"547;21\\r\\n\"\\n\"547;21\\r\\n\"\\n\"546;21\\r\\n\"\\n\"546;21\\r\\n\"\\n\"545;21\\r\\n\"\\n\"544;21\\r\\n\"\\n\"543;21\\r\\n\"\\n\"543;21\\r\\n\"\\n\"543;21\\r\\n\"\\n\"543;21\\r\\n\"\\n\"543;21\\r\\n\"\\n\"544;20\\r\\n\"\\n\"545;21\\r\\n\"\\n\"545;20\\r\\n\"\\n\"546;20\\r\\n\"\\n\"546;21\\r\\n\"\\n\"547;20\\r\\n\"\\n\"546;21\\r\\n\"\\n\"546;20\\r\\n\"\\n\"546;20\\r\\n\"\\n\"545;20\\r\\n\"\\n\"544;20\\r\\n\"\\n\"544;20\\r\\n\"\\n\"543;20\\r\\n\"\\n\"543;20\\r\\n\"\\n\"542;20\\r\\n\"\\n\"542;20\\r\\n\"\\n\"542;20\\r\\n\"\\n\"542;20\\r\\n\"\\n\"543;20\\r\\n\"\\n\"543;20\\r\\n\"\\n\"544;20\\r\\n\"\\n\"545;20\\r\\n\"\\n\"545;20\\r\\n\"\\n\"546;20\\r\\n\"\\n\"546;20\\r\\n\"\\n\"546;19\\r\\n\"\\n\"546;19\\r\\n\"\\n\"546;20\\r\\n\"\\n\"545;19\\r\\n\"\\n\"545;20\\r\\n\"\\n\"544;20\\r\\n\"\\n\"543;19\\r\\n\"\\n\"543;20\\r\\n\"\\n\"542;19\\r\\n\"\\n\"542;20\\r\\n\"\\n\"542;20\\r\\n\"\\n\"542;19\\r\\n\"\\n\"543;20\\r\\n\"\\n\"543;19\\r\\n\"\\n\"544;20\\r\\n\"\\n\"544;19\\r\\n\"\\n\"545;19\\r\\n\"\\n\"545;19\\r\\n\"\\n\"546;19\\r\\n\"\\n\"546;19\\r\\n\"\\n\"546;19\\r\\n\"\\n\"545;19\\r\\n\"\\n\"545;19\\r\\n\"\\n\"544;19\\r\\n\"\\n\"543;40\\r\\n\"\\n\"543;19\\r\\n\"\\n\"542;19\\r\\n\"\\n\"541;19\\r\\n\"\\n\"541;19\\r\\n\"\\n\"541;19\\r\\n\"\\n\"541;19\\r\\n\"\\n\"542;19\\r\\n\"\\n\"543;19\\r\\n\"\\n\"543;19\\r\\n\"\\n\"544;19\\r\\n\"\\n\"545;19\\r\\n\"\\n\"545;19\\r\\n\"\\n\"544;19\\r\\n\"\\n\"544;19\\r\\n\"\\n\"544;19\\r\\n\"\\n\"543;19\\r\\n\"\\n\"543;19\\r\\n\"\\n\"542;19\\r\\n\"\\n\"541;19\\r\\n\"\\n\"541;18\\r\\n\"\\n\"540;19\\r\\n\"\\n\"540;18\\r\\n\"\\n\"540;19\\r\\n\"\\n\"540;19\\r\\n\"\\n\"541;19\\r\\n\"\\n\"542;19\\r\\n\"\\n\"543;19\\r\\n\"\\n\"543;18\\r\\n\"\\n\"544;19\\r\\n\"\\n\"544;19\\r\\n\"\\n\"544;19\\r\\n\"\\n\"544;19\\r\\n\"\\n\"544;19\\r\\n\"\\n\"543;19\\r\\n\"\\n\"542;18\\r\\n\"\\n\"542;19\\r\\n\"\\n\"541;19\\r\\n\"\\n\"540;19\\r\\n\"\\n\"540;19\\r\\n\"\\n\"540;19\\r\\n\"\\n\"540;19\\r\\n\"\\n\"541;18\\r\\n\"\\n\"542;19\\r\\n\"\\n\"542;18\\r\\n\"\\n\"543;19\\r\\n\"\\n\"543;18\\r\\n\"\\n\"544;18\\r\\n\"\\n\"543;19\\r\\n\"\\n\"533;19\\r\\n\"\\n\"519;19\\r\\n\"\\n\"525;18\\r\\n\"\\n\"527;18\\r\\n\"\\n\"525;18\\r\\n\"\\n\"523;18\\r\\n\"\\n\"520;18\\r\\n\"\\n\"514;18\\r\\n\"\\n\"509;18\\r\\n\"\\n\"512;18\\r\\n\"\\n\"526;18\\r\\n\"\\n\"528;18\\r\\n\"\\n\"516;18\\r\\n\"\\n\"515;18\\r\\n\"\\n\"515;18\\r\\n\"\\n\"515;18\\r\\n\"\\n\"516;18\\r\\n\"\\n\"516;18\\r\\n\"\\n\"515;18\\r\\n\"\\n\"514;18\\r\\n\"\\n\"514;18\\r\\n\"\\n\"513;18\\r\\n\"\\n\"512;18\\r\\n\"\\n\"512;18\\r\\n\"\\n\"512;18\\r\\n\"\\n\"522;18\\r\\n\"\\n\"535;19\\r\\n\"\\n\"536;18\\r\\n\"\\n\"538;18\\r\\n\"\\n\"539;19\\r\\n\"\\n\"540;18\\r\\n\"\\n\"541;19\\r\\n\"\\n\"542;18\\r\\n\"\\n\"542;19\\r\\n\"\\n\"542;19\\r\\n\"\\n\"542;18\\r\\n\"\\n\"542;19\\r\\n\"\\n\"541;19\\r\\n\"\\n\"540;18\\r\\n\"\\n\"539;19\\r\\n\"\\n\"539;18\\r\\n\"\\n\"538;18\\r\\n\"\\n\"538;18\\r\\n\"\\n\"538;18\\r\\n\"\\n\"538;18\\r\\n\"\\n\"538;18\\r\\n\"\\n\"539;18\\r\\n\"\\n\"540;18\\r\\n\"\\n\"541;18\\r\\n\"\\n\"541;19\\r\\n\"\\n\"542;18\\r\\n\"\\n\"542;19\\r\\n\"\\n\"542;18\\r\\n\"\\n\"542;19\\r\\n\"\\n\"541;18\\r\\n\"\\n\"540;18\\r\\n\"\\n\"540;17\\r\\n\"\\n\"539;18\\r\\n\"\\n\"538;18\\r\\n\"\\n\"538;18\\r\\n\"\\n\"538;18\\r\\n\"\\n\"538;18\\r\\n\"\\n\"538;18\\r\\n\"\\n\"539;19\\r\\n\"\\n\"540;18\\r\\n\"\\n\"540;18\\r\\n\"\\n\"541;18\\r\\n\"\\n\"542;19\\r\\n\"\\n\"542;19\\r\\n\"\\n\"542;19\\r\\n\"\\n\"542;18\\r\\n\"\\n\"542;18\\r\\n\"\\n\"542;18\\r\\n\"\\n\"541;19\\r\\n\"\\n\"540;18\\r\\n\"\\n\"539;19\\r\\n\"\\n\"538;18\\r\\n\"\\n\"538;18\\r\\n\"\\n\"538;18\\r\\n\"\\n\"538;18\\r\\n\"\\n\"539;18\\r\\n\"\\n\"540;19\\r\\n\"\\n\"540;18\\r\\n\"\\n\"541;19\\r\\n\"\\n\"541;19\\r\\n\"\\n\"542;19\\r\\n\"\\n\"542;19\\r\\n\"\\n\"541;18\\r\\n\"\\n\"541;19\\r\\n\"\\n\"540;18\\r\\n\"\\n\"540;18\\r\\n\"\\n\"540;19\\r\\n\"\\n\"539;18\\r\\n\"\\n\"539;18\\r\\n\"\\n\"539;19\\r\\n\"\\n\"539;18\\r\\n\"\\n\"539;18\\r\\n\"\\n\"540;18\\r\\n\"\\n\"540;18\\r\\n\"\\n\"541;18\\r\\n\"\\n\"542;18\\r\\n\"\\n\"542;19\\r\\n\"\\n\"542;18\\r\\n\"\\n\"542;18\\r\\n\"\\n\"542;18\\r\\n\"\\n\"542;18\\r\\n\"\\n\"541;18\\r\\n\"\\n\"540;18\\r\\n\"\\n\"540;18\\r\\n\"\\n\"539;18\\r\\n\"\\n\"538;18\\r\\n\"\\n\"538;18\\r\\n\"\\n\"538;18\\r\\n\"\\n\"538;18\\r\\n\"\\n\"538;18\\r\\n\"\\n\"539;18\\r\\n\"\\n\"539;18\\r\\n\"\\n\"540;18\\r\\n\"\\n\"541;18\\r\\n\"\\n\"542;18\\r\\n\"\\n\"542;18\\r\\n\"\\n\"542;18\\r\\n\"\\n\"542;18\\r\\n\"\\n\"541;18\\r\\n\"\\n\"541;18\\r\\n\"\\n\"540;18\\r\\n\"\\n\"539;18\\r\\n\"\\n\"538;18\\r\\n\"\\n\"538;18\\r\\n\"\\n\"538;18\\r\\n\"\\n\"538;18\\r\\n\"\\n\"538;18\\r\\n\"\\n\"539;18\\r\\n\"\\n\"540;18\\r\\n\"\\n\"540;18\\r\\n\"\\n\"541;18\\r\\n\"\\n\"542;18\\r\\n\"\\n\"542;18\\r\\n\"\\n\"542;18\\r\\n\"\\n\"542;18\\r\\n\"\\n\"541;18\\r\\n\"\\n\"541;18\\r\\n\"\\n\"540;18\\r\\n\"\\n\"539;16\\r\\n\"\\n\"539;18\\r\\n\"\\n\"538;18\\r\\n\"\\n\"538;18\\r\\n\"\\n\"538;18\\r\\n\"\\n\"538;18\\r\\n\"\\n\"538;18\\r\\n\"\\n\"539;18\\r\\n\"\\n\"540;18\\r\\n\"\\n\"540;18\\r\\n\"\\n\"541;18\\r\\n\"\\n\"541;18\\r\\n\"\\n\"542;18\\r\\n\"\\n\"542;19\\r\\n\"\\n\"541;18\\r\\n\"\\n\"540;18\\r\\n\"\\n\"540;18\\r\\n\"\\n\"539;18\\r\\n\"\\n\"538;18\\r\\n\"\\n\"538;18\\r\\n\"\\n\"537;18\\r\\n\"\\n\"538;18\\r\\n\"\\n'"
      ]
     },
     "execution_count": 12,
     "metadata": {},
     "output_type": "execute_result"
    }
   ],
   "source": [
    "data.to_csv(index=False)"
=======
   "execution_count": 117,
   "metadata": {},
   "outputs": [
    {
     "name": "stdout",
     "output_type": "stream",
     "text": [
      "     Tempo Luminosidade Temperatura\n",
      "0      0.0          549          19\n",
      "1      0.2          549          18\n",
      "2      0.4          549          18\n",
      "3      0.6          548          19\n",
      "4      0.8          548          19\n",
      "..     ...          ...         ...\n",
      "495   99.0          539          18\n",
      "496   99.2          538          18\n",
      "497   99.4          538          18\n",
      "498   99.6          537          18\n",
      "499   99.8          538          18\n",
      "\n",
      "[500 rows x 3 columns]\n"
     ]
    }
   ],
   "source": [
    "import pandas as pd\n",
    "\n",
    "data = pd.read_csv ('Lab4.csv')\n",
    "new = data[\"0\"].str.split(\"\\r\",n=1, expand = True)\n",
    "new.columns = ['lum','Temp']\n",
    "new1 = new.drop(columns = ['Temp'])\n",
    "new2 = new1['lum'].str.split(\";\",n=1, expand = True)\n",
    "new2.columns = ['Luminosidade','Temperatura']\n",
    "new2.insert(0, \"Tempo\", time, True)\n",
    "print(new2)\n",
    "\n",
    "#data.to_csv('Lab4.csv', index=False)"
>>>>>>> Luis
   ]
  },
  {
   "cell_type": "markdown",
   "metadata": {},
   "source": [
    "Plot the Temperature against time, the luminance against time and the temperature against the luminance."
   ]
  },
  {
   "cell_type": "code",
<<<<<<< HEAD
   "execution_count": null,
   "metadata": {},
   "outputs": [],
   "source": []
=======
   "execution_count": 120,
   "metadata": {},
   "outputs": [
    {
     "data": {
      "image/png": "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\n",
      "text/plain": [
       "<Figure size 432x288 with 1 Axes>"
      ]
     },
     "metadata": {
      "needs_background": "light"
     },
     "output_type": "display_data"
    }
   ],
   "source": [
    "import matplotlib.pyplot as plt\n",
    "plt.plot(new2['Tempo'],new2['Luminosidade'])\n",
    "plt.show()"
   ]
>>>>>>> Luis
  },
  {
   "cell_type": "markdown",
   "metadata": {},
   "source": [
    "## 2) Databases\n",
    "\n",
    "For the databases part of this assignment, you will use the mimic-iii database from the laboratory session. Start by adding a few new tables to the database, using the SQL files included in the assignment's files. Open PGAdmin and connect to your mimic-iii database. **To properly load these tables, load the following files exactly and by the order presented.**\n",
    "\n",
    "1) Run demographic.sql\n",
    "\n",
    "2) Run lab_firstday.sql\n",
    "\n",
    "You will now have to answer a few SQL questions."
   ]
  },
  {
   "cell_type": "markdown",
   "metadata": {},
   "source": [
    "**1.** Open the connection to your mimic-iii database. If you want, you can delete your credentials before submitting the assignment, but if you do so, please run the notebook first, for the results to be displayed."
   ]
  },
  {
   "cell_type": "code",
   "execution_count": null,
   "metadata": {},
   "outputs": [],
   "source": []
  },
  {
   "cell_type": "markdown",
   "metadata": {},
   "source": [
    "**2.** Create a function that receives an SQL query and automatically opens a cursor, queries the database, extracts the columns, creates a pandas database, and closes the connections."
   ]
  },
  {
   "cell_type": "code",
   "execution_count": null,
   "metadata": {},
   "outputs": [],
   "source": []
  },
  {
   "cell_type": "markdown",
   "metadata": {},
   "source": [
    "**3.** Query the table admissions filtering for admission type as elective and insurance as private."
   ]
  },
  {
   "cell_type": "code",
   "execution_count": null,
   "metadata": {},
   "outputs": [],
   "source": []
  },
  {
   "cell_type": "markdown",
   "metadata": {},
   "source": [
    "**4.** Query the table admissions, filtering for the same conditions as the previous exercise (admission type as elective and insurance as private). Join the \"drgcodes\" table on the admission ID. Display only the columns regarding the subject id, admission id, time of death, and description of the drug."
   ]
  },
  {
   "cell_type": "code",
   "execution_count": null,
   "metadata": {},
   "outputs": [],
   "source": []
  },
  {
   "cell_type": "markdown",
   "metadata": {},
   "source": [
    "**5.1.** Obtain the dataset for this problem, by running the SQL query below."
   ]
  },
  {
   "cell_type": "code",
   "execution_count": 1,
   "metadata": {},
   "outputs": [],
   "source": [
    "query = \"SELECT pivoted_lab.*,\" +\\\n",
    "                \"gender as gender,\" +\\\n",
    "                \"admission_age,\" +\\\n",
    "                \"ethnicity_grouped as eth_grp,\" +\\\n",
    "                \"hospital_expire_flag,\" +\\\n",
    "                \"los_icu, \" +\\\n",
    "        \"FROM demographics \" +\\\n",
    "        \"LEFT JOIN pivoted_lab \" +\\\n",
    "        \"ON demographics.icustay_id = pivoted_lab.icustay_id \" +\\\n",
    "        \"WHERE first_icu_stay = true\""
   ]
  },
  {
   "cell_type": "markdown",
   "metadata": {},
   "source": [
    "**5.2.** Close the connection to your SQL server."
   ]
  },
  {
   "cell_type": "code",
   "execution_count": null,
   "metadata": {},
   "outputs": [],
   "source": []
  },
  {
   "cell_type": "markdown",
   "metadata": {},
   "source": [
    "**5.3.** Prepare your dataset:\n",
    "\n",
    "* Drop the ID columns of subject, admission and ICU stay.\n",
    "* Drop columns with at least one NA value.\n",
    "* Encode the categorical columns, the ethnicity and gender ('eth_grp', 'gender'). *Suggestion: use pd.get_dummies*"
   ]
  },
  {
   "cell_type": "code",
   "execution_count": null,
   "metadata": {},
   "outputs": [],
   "source": []
  },
  {
   "cell_type": "markdown",
   "metadata": {},
   "source": [
    "**6.** Fit the following tree-based classifiers to the dataset. For each method:\n",
    "\n",
    "* Perform k-fold cross validation to evaluate the models. Consider 10 folds.\n",
    "\n",
    "* Plot the ROC curves for each fold, along with the mean ROC curve.\n",
    "\n",
    "* Calculate the mean AUC.\n",
    "\n",
    "**a.** Decision tree."
   ]
  },
  {
   "cell_type": "code",
   "execution_count": null,
   "metadata": {},
   "outputs": [],
   "source": []
  },
  {
   "cell_type": "markdown",
   "metadata": {},
   "source": [
    "**b.** Random forest"
   ]
  },
  {
   "cell_type": "code",
   "execution_count": null,
   "metadata": {},
   "outputs": [],
   "source": []
  },
  {
   "cell_type": "markdown",
   "metadata": {},
   "source": [
    "**c.** Gradient Boosting"
   ]
  },
  {
   "cell_type": "code",
   "execution_count": null,
   "metadata": {},
   "outputs": [],
   "source": []
  },
  {
   "cell_type": "markdown",
   "metadata": {},
   "source": [
    "**7.1.** Perform a grid search cross-validation on the Gradient boosting methods, changing the value of the learning rate (0.01 to 0.5) and the number of estimators (50-500). Consider the mean AUC of the folds as the performance measure."
   ]
  },
  {
   "cell_type": "code",
   "execution_count": null,
   "metadata": {},
   "outputs": [],
   "source": []
  },
  {
   "cell_type": "markdown",
   "metadata": {},
   "source": [
    "**7.2.** Plot a scatterplot of the learning rate versus the number of estimators, with the mean AUC as the color gradient."
   ]
  },
  {
   "cell_type": "code",
   "execution_count": null,
   "metadata": {},
   "outputs": [],
   "source": []
  },
  {
   "cell_type": "markdown",
   "metadata": {},
   "source": [
    "**8.1.** Perform forward stepwise selection on the dataset. Use the best parameters of the gradient boosting method obtained in **7.1.**."
   ]
  },
  {
   "cell_type": "code",
   "execution_count": null,
   "metadata": {},
   "outputs": [],
   "source": []
  },
  {
   "cell_type": "markdown",
   "metadata": {},
   "source": [
    "**8.2.** Compare and comment the results from **8.1.** with the features importance obtained through the grid search of queastion **7.1.**."
   ]
  },
  {
   "cell_type": "code",
   "execution_count": null,
   "metadata": {},
   "outputs": [],
   "source": []
  },
  {
   "cell_type": "markdown",
   "metadata": {},
   "source": [
    "## 3) Theoretical Questions"
   ]
  },
  {
   "cell_type": "markdown",
   "metadata": {},
   "source": [
    "**1.** Consider a dataset where best subset, forward stepwise and backward stepwise selection will be performed. For each of the 3 approaches, we obtain $p+1$ models, $p$ being the total number of predictors. This means that each approach has a model with 0 predictors, one with 1 predictor, one with 2 predictor, up until one model with $p$ predictors. Answer and justify the following questions:\n",
    "\n",
    "**a)** Which of the three models with $k, \\, \\forall_{k \\in [0,p]}$ predictors has the smallest training RSS?"
   ]
  },
  {
   "cell_type": "markdown",
   "metadata": {},
   "source": []
  },
  {
   "cell_type": "markdown",
   "metadata": {},
   "source": [
    "**b)** Which of the three models with $k, \\, \\forall_{k \\in [0,p]}$ predictors has the smallest test RSS?"
   ]
  },
  {
   "cell_type": "markdown",
   "metadata": {},
   "source": []
  },
  {
   "cell_type": "markdown",
   "metadata": {},
   "source": [
    "**c)** Evaluate the following statements with *true* or *false*. Justify your answers.\n",
    "\n",
    "    i. The predictors in the k-variable model identified by forward stepwise selection are a subset of the predictors in the (k+1)-variable model identified by forward stepwise selection."
   ]
  },
  {
   "cell_type": "markdown",
   "metadata": {},
   "source": []
  },
  {
   "cell_type": "markdown",
   "metadata": {},
   "source": [
    "    ii. The predictors in the k-variable model identified by backward stepwise selection are a subset of the predictors in the (k + 1)-variable model identified by backward stepwise selection."
   ]
  },
  {
   "cell_type": "markdown",
   "metadata": {},
   "source": []
  },
  {
   "cell_type": "markdown",
   "metadata": {},
   "source": [
    "    iii. The predictors in the k-variable model identified by backward stepwise selection are a subset of the predictors in the (k + 1)-variable model identified by forward stepwise selection."
   ]
  },
  {
   "cell_type": "markdown",
   "metadata": {},
   "source": []
  },
  {
   "cell_type": "markdown",
   "metadata": {},
   "source": [
    "    iv. The predictors in the k-variable model identified by forward stepwise selection are a subset of the predictors in the (k+1)-variable model identified by backward stepwise selection."
   ]
  },
  {
   "cell_type": "markdown",
   "metadata": {},
   "source": []
  },
  {
   "cell_type": "markdown",
   "metadata": {},
   "source": [
    "    v. The predictors in the k-variable model identified by best subset selection are a subset of the predictors in the (k + 1)-variable model identified by best subset selection."
   ]
  },
  {
   "cell_type": "markdown",
   "metadata": {},
   "source": []
  },
  {
   "cell_type": "markdown",
   "metadata": {},
   "source": [
    "**2.** Ridge regression tends to give similar coefficient values to correlated variables, whereas lasso regression may give substantially different coefficients to correlated variables. This questions explores this property in a simplified setting.\n",
    "\n",
    "Suppose that $n=2$, $p=2$, $x_{11} = x_{12}$, $x_{21} = x_{22}$. Moreover, suppose that $y_1 + y_2 = 0$ and $x_{11} + x_{21} = 0$ and $x_{12} + x_{22} = 0$, meaning that the estimate for the intercept in a least squares, ridge regression, or lasso regression is zero: $\\hat{\\beta} = 0$.\n",
    "\n",
    "**a)** Write the ridge regression optimization problem in this setting."
   ]
  },
  {
   "cell_type": "markdown",
   "metadata": {},
   "source": []
  },
  {
   "cell_type": "markdown",
   "metadata": {},
   "source": [
    "**b)** Prove that in this setting, the ridge regression coefficient estimates satisfy $\\hat{\\beta}_1 = \\hat{\\beta}_2$."
   ]
  },
  {
   "cell_type": "markdown",
   "metadata": {},
   "source": []
  },
  {
   "cell_type": "markdown",
   "metadata": {},
   "source": [
    "**c)** Write the lasso regression optimization problem in this setting."
   ]
  },
  {
   "cell_type": "markdown",
   "metadata": {},
   "source": []
  },
  {
   "cell_type": "markdown",
   "metadata": {},
   "source": [
    "**d)** Prove that in this setting, the lasso regression coefficients $\\hat{\\beta}_1$ and $\\hat{\\beta}_2$ are not unique, meaning that there are many possible solutions to the optimization problem in (c). Describe these solutions."
   ]
  },
  {
   "cell_type": "markdown",
   "metadata": {},
   "source": []
  },
  {
   "cell_type": "markdown",
   "metadata": {},
   "source": [
    "**3.** Draw an example of a partition of two-dimensional feature space that could result from recursive binary splitting. Your example should contain at least six regions. Draw a decision tree corresponding to this partition. Be sure to label all aspects of your figures, including the regions R1, R2,..., the cutpoints t1, t2,..., and so forth.\n",
    "\n",
    "If you prefer you can draw it by hand or in any software and use a scan of it."
   ]
  },
  {
   "cell_type": "markdown",
   "metadata": {},
   "source": []
  },
  {
   "cell_type": "markdown",
   "metadata": {},
   "source": [
    "**4.** In 2 dimensions, a linear decision boundary takes the form $\\beta_0 + \\beta_1 X_1 + \\beta_2 X_2 = 0$. Consider a nn-linear decision boundary:\n",
    "\n",
    "**a)** Sketch the curve\n",
    "\n",
    "$$(1 + X_1)^2 + (2 - X_2)^2 = 4$$\n",
    "\n",
    "Additionally, indicate on your sketch the set of points that verify the condition\n",
    "\n",
    "$$(1 + X_1)^2 + (2 - X_2)^2 > 4$$\n",
    "\n",
    "and the condition\n",
    "\n",
    "$$(1 + X_1)^2 + (2 - X_2)^2 \\leq 4$$"
   ]
  },
  {
   "cell_type": "code",
   "execution_count": null,
   "metadata": {},
   "outputs": [],
   "source": []
  },
  {
   "cell_type": "markdown",
   "metadata": {},
   "source": [
    "**b)** Suppose that a classifier assigns an observation to the blue class if $(1 + X_1)^2 + (2 - X_2)^2 > 4$ and to the red class otherwise. To what class are the following observations classified? (0,0), (-1,1), (2,2), (3,8)"
   ]
  },
  {
   "cell_type": "markdown",
   "metadata": {},
   "source": []
  },
  {
   "cell_type": "markdown",
   "metadata": {},
   "source": [
    "**c)** Prove that while the decision boundary in (b) is not linear in terms of $X_1$ and $X_2$, it is linear in terms of $X_1$, $X_1^2$, $X_2$, and $X_2^2$."
   ]
  },
  {
   "cell_type": "markdown",
   "metadata": {},
   "source": []
  },
  {
   "cell_type": "markdown",
   "metadata": {},
   "source": [
    "# 4) Laboratory Questions\n",
    "\n",
    "What are the advantages and disadvantages of relational dabases versus graph databases, and when should one type be preferred over the other?"
   ]
  },
  {
   "cell_type": "markdown",
   "metadata": {},
   "source": []
  }
 ],
 "metadata": {
  "kernelspec": {
   "display_name": "Python 3 (ipykernel)",
   "language": "python",
   "name": "python3"
  },
  "language_info": {
   "codemirror_mode": {
    "name": "ipython",
    "version": 3
   },
   "file_extension": ".py",
   "mimetype": "text/x-python",
   "name": "python",
   "nbconvert_exporter": "python",
   "pygments_lexer": "ipython3",
   "version": "3.9.7"
  }
 },
 "nbformat": 4,
 "nbformat_minor": 4
}

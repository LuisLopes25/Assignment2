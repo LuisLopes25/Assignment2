{
 "cells": [
  {
   "cell_type": "markdown",
   "metadata": {},
   "source": [
    "# Assignment 2\n",
    "\n",
    "To be delivered until 2022/01/24 23:59:59."
   ]
  },
  {
   "cell_type": "markdown",
   "metadata": {},
   "source": [
    "## 1) Arduino\n",
    "\n",
    "You will start by setting up a series of connections in order to extract some data with the Arduino. First make the connections as shown below. **Mind the direction of the temperature sensor. If you have an incorrect position, you will be connection the power to the ground and vice-versa and you will damage the sensor.** The photoresistor sensor on the other hand has no polarity.\n",
    "\n",
    "<img src=\"temp_photo_cropped.png\" width=1000/>\n",
    "\n",
    "On this problem, you will read temperature and luminance from the sensors and print them on the serial.\n",
    "\n",
    "**1)** Code an Arduino sketch, where the value of temperature and luminance are printed to the serial. For each serial print that you make, print the value of temperature, then a semicolon, then the value of luminance with a new line (use no whitespaces). You can do this by using three separate `Serial.print`, with the last one being a `Serial.println`. Print values 5 times per second (use the delay function to control this). Manually influence the readings of the sensors, by covering the photoresistor or shining light on it, and by lightly and carefully touching the temperature sensor to increase its temperature readings.\n",
    "\n",
    "**Note that the temperature sensor appears not to be very reliable. Since the objective of this exercise is just to plot the results, this should not be an issue.**\n",
    "\n",
    "**Copy and paste your arduino code below. You may use a python code cell, even though the code can not be run.**\n",
    "\n",
    "*Hint: for the temperature value to be in celsius, divide the read value by 1024 and multiply it by 500. The luminance does not have to be converted*"
   ]
  },
  {
   "cell_type": "code",
   "execution_count": null,
   "metadata": {},
   "outputs": [],
   "source": [
    "float temp;\n",
    "float lum;\n",
    "int lumPin = 0;\n",
    "int tempPin = 1;\n",
    "\n",
    "void setup() {\n",
    "   Serial.begin(9600);\n",
    "}\n",
    "\n",
    "void loop() {\n",
    "  \n",
    "   lum = analogRead(lumPin);\n",
    "   // leitura do valor do sensor e salvar na variavel lum\n",
    "   temp = analogRead(tempPin);\n",
    "   // leitura do valor do sensor e salvar na variavel lum temp\n",
    "   temp = (temp/1024) * 500;\n",
    "   // converter o valor analógico em volt para o seu equivalente em ºC\n",
    "   Serial.print(lum); // Mostrar os valor da luminosidade\n",
    "   Serial.print(';');\n",
    "   Serial.print(temp); // Mostrar o valor da Temperatura\n",
    "   Serial.println();\n",
    "   delay(200); // Realização de 5 leituras a cada segundo\n",
    "}"
   ]
  },
  {
   "cell_type": "markdown",
   "metadata": {},
   "source": [
    "To import the data into Arduino, keep it running (the Serial Monitor must be closed in Arduino) and run the following code. Change the COM port to your own. This block of code will read 1000 values from the Serial. Given that each observation is taken every 0.2 seconds, it should take a minute and a half."
   ]
  },
  {
   "cell_type": "code",
   "execution_count": 28,
   "metadata": {},
   "outputs": [],
   "source": [
    "import serial\n",
    "import time\n",
    "\n",
    "ser = serial.Serial('COM4', 9600, timeout=1)\n",
    "time.sleep(2)\n",
    "\n",
    "data = []\n",
    "for i in range(500):\n",
    "    line = ser.readline()\n",
    "    if line:\n",
    "        string = line.decode()\n",
    "        data.append(string)\n",
    "\n",
    "ser.close()"
   ]
  },
  {
   "cell_type": "markdown",
   "metadata": {},
   "source": [
    "Convert the data into a pandas dataframe and save it in a csv file. Besides the value of temperature and luminance, also include the time, considering the first observation at $t=0$ and every observation 0.2 seconds after the previous one. **The file must be submitted in Fenix and included in your Github repo**."
   ]
  },
  {
   "cell_type": "code",
   "execution_count": 1,
   "metadata": {},
   "outputs": [
    {
     "data": {
      "text/html": [
       "<div>\n",
       "<style scoped>\n",
       "    .dataframe tbody tr th:only-of-type {\n",
       "        vertical-align: middle;\n",
       "    }\n",
       "\n",
       "    .dataframe tbody tr th {\n",
       "        vertical-align: top;\n",
       "    }\n",
       "\n",
       "    .dataframe thead th {\n",
       "        text-align: right;\n",
       "    }\n",
       "</style>\n",
       "<table border=\"1\" class=\"dataframe\">\n",
       "  <thead>\n",
       "    <tr style=\"text-align: right;\">\n",
       "      <th></th>\n",
       "      <th>Tempo</th>\n",
       "      <th>Luminosidade</th>\n",
       "      <th>Temperatura</th>\n",
       "    </tr>\n",
       "  </thead>\n",
       "  <tbody>\n",
       "    <tr>\n",
       "      <th>0</th>\n",
       "      <td>0.0</td>\n",
       "      <td>549.0</td>\n",
       "      <td>19.0</td>\n",
       "    </tr>\n",
       "    <tr>\n",
       "      <th>1</th>\n",
       "      <td>0.2</td>\n",
       "      <td>549.0</td>\n",
       "      <td>18.0</td>\n",
       "    </tr>\n",
       "    <tr>\n",
       "      <th>2</th>\n",
       "      <td>0.4</td>\n",
       "      <td>549.0</td>\n",
       "      <td>18.0</td>\n",
       "    </tr>\n",
       "    <tr>\n",
       "      <th>3</th>\n",
       "      <td>0.6</td>\n",
       "      <td>548.0</td>\n",
       "      <td>19.0</td>\n",
       "    </tr>\n",
       "    <tr>\n",
       "      <th>4</th>\n",
       "      <td>0.8</td>\n",
       "      <td>548.0</td>\n",
       "      <td>19.0</td>\n",
       "    </tr>\n",
       "  </tbody>\n",
       "</table>\n",
       "</div>"
      ],
      "text/plain": [
       "   Tempo  Luminosidade  Temperatura\n",
       "0    0.0         549.0         19.0\n",
       "1    0.2         549.0         18.0\n",
       "2    0.4         549.0         18.0\n",
       "3    0.6         548.0         19.0\n",
       "4    0.8         548.0         19.0"
      ]
     },
     "execution_count": 1,
     "metadata": {},
     "output_type": "execute_result"
    }
   ],
   "source": [
    "import pandas as pd\n",
    "\n",
    "# Converter os dados obtidos do laboratório para csv\n",
    "data.to_csv('Lab4.csv', index=False)\n",
    "\n",
    "# Converção dos dados para pandas dataframe\n",
    "data = pd.read_csv ('Lab4.csv')\n",
    "\n",
    "# Tratamentos dos dados\n",
    "data_split = data[\"0\"].str.split(\"\\n\",n=1, expand = True) # Retirar os valores \\n dos dados de forma a ficar apenas com os valores da temperatura\n",
    "data_split.columns = ['lum','Temp']\n",
    "data_split1 = data_split.drop(columns = ['Temp']) \n",
    "data_lab = data_split1['lum'].str.split(\";\",n=1, expand = True) # Divisão dos dados em luminosidade e temperatura\n",
    "data_lab.columns = ['Luminosidade','Temperatura']\n",
    "\n",
    "# Criação do tempo com intervalo de 0.2 segundos\n",
    "time = [x*0.2 for x in range(0,len(data))]\n",
    "data_lab.insert(0, \"Tempo\", time, True)\n",
    "\n",
    "# Converter os valores da temperatura e luminosidade para float\n",
    "data_lab['Luminosidade'] = data_lab['Luminosidade'].astype(float, errors = 'raise')\n",
    "data_lab['Temperatura'] = data_lab['Temperatura'].astype(float, errors = 'raise')\n",
    "\n",
    "# Guardar os dados após o tratamento num ficheiro csv\n",
    "\n",
    "data_lab.to_csv('Dados Lab 4.csv', index=False)\n",
    "\n",
    "\n",
    "data_lab.head()"
   ]
  },
  {
   "cell_type": "markdown",
   "metadata": {},
   "source": [
    "Plot the Temperature against time, the luminance against time and the temperature against the luminance."
   ]
  },
  {
   "cell_type": "code",
   "execution_count": 2,
   "metadata": {},
   "outputs": [
    {
     "data": {
      "image/png": "[encoded data removed]",
      "text/plain": [
       "<Figure size 1152x576 with 2 Axes>"
      ]
     },
     "metadata": {
      "needs_background": "light"
     },
     "output_type": "display_data"
    },
    {
     "data": {
      "text/plain": [
       "<matplotlib.collections.PathCollection at 0x7fd8c2f21e20>"
      ]
     },
     "execution_count": 2,
     "metadata": {},
     "output_type": "execute_result"
    },
    {
     "data": {
      "image/png": "[encoded data removed]",
      "text/plain": [
       "<Figure size 1152x576 with 1 Axes>"
      ]
     },
     "metadata": {
      "needs_background": "light"
     },
     "output_type": "display_data"
    }
   ],
   "source": [
    "import matplotlib.pyplot as plt\n",
    "\n",
    "plt.rcParams['figure.figsize'] = [16, 8]\n",
    "\n",
    "# Gráfico Luminosidade vs Tempo\n",
    "plt.figure()\n",
    "plt.subplot(211)\n",
    "plt.title('Luminosidade vs Tempo')\n",
    "plt.ylabel('Luminosidade [V]')\n",
    "plt.xlabel('Tempo [s]')\n",
    "plt.plot(data_lab['Tempo'],data_lab['Luminosidade'])\n",
    "\n",
    "# Gráfico Temperatura vs Tempo\n",
    "plt.subplot(212)\n",
    "plt.title('Temperatura vs Tempo')\n",
    "plt.ylabel('Temperatura [°C]')\n",
    "plt.xlabel('Tempo [s]')\n",
    "plt.tight_layout()\n",
    "plt.plot(data_lab['Tempo'],data_lab['Temperatura'], 'r')\n",
    "plt.show()\n",
    "\n",
    "# Gráfico da Temperatura vs Luminosidade\n",
    "plt.figure()\n",
    "plt.title('Temperatura vs Luminosidade')\n",
    "plt.xlabel('Luminosidade [V]')\n",
    "plt.ylabel('Temperatura [°C]')\n",
    "plt.scatter(data_lab['Luminosidade'],data_lab['Temperatura'], marker= '.')"
   ]
  },
  {
   "cell_type": "markdown",
   "metadata": {},
   "source": [
    "## 2) Databases\n",
    "\n",
    "For the databases part of this assignment, you will use the mimic-iii database from the laboratory session. Start by adding a few new tables to the database, using the SQL files included in the assignment's files. Open PGAdmin and connect to your mimic-iii database. **To properly load these tables, load the following files exactly and by the order presented.**\n",
    "\n",
    "1) Run demographic.sql\n",
    "\n",
    "2) Run lab_firstday.sql\n",
    "\n",
    "You will now have to answer a few SQL questions."
   ]
  },
  {
   "cell_type": "markdown",
   "metadata": {},
   "source": [
    "**1.** Open the connection to your mimic-iii database. If you want, you can delete your credentials before submitting the assignment, but if you do so, please run the notebook first, for the results to be displayed."
   ]
  },
  {
   "cell_type": "code",
   "execution_count": 1,
   "metadata": {},
   "outputs": [
    {
     "name": "stdout",
     "output_type": "stream",
     "text": [
      "Connection established to:  ('PostgreSQL 14.1, compiled by Visual C++ build 1914, 64-bit',)\n"
     ]
    }
   ],
   "source": [
    "import pandas as pd\n",
    "import numpy as np\n",
    "import psycopg2 as psql\n",
    "import matplotlib.pyplot as plt\n",
    "\n",
    "conn = psql.connect(host='localhost',\n",
    "                    database='mimic-iii',\n",
    "                    user='username',\n",
    "                    password='password',\n",
    "                    port=5432)\n",
    "\n",
    "cursor = conn.cursor()\n",
    "cursor.execute(\"select version()\")\n",
    "data = cursor.fetchone()\n",
    "\n",
    "print(\"Connection established to: \", data)"
   ]
  },
  {
   "cell_type": "markdown",
   "metadata": {},
   "source": [
    "**2.** Create a function that receives an SQL query and automatically opens a cursor, queries the database, extracts the columns, creates a pandas database, and closes the connections."
   ]
  },
  {
   "cell_type": "code",
   "execution_count": 6,
   "metadata": {},
   "outputs": [],
   "source": [
    "import pandas as pd\n",
    "import psycopg2 as psql\n",
    "def receive_query( query ):\n",
    "    cursor = conn.cursor()\n",
    "    cursor.execute(query)\n",
    "    colnames = [desc[0] for desc in cursor.description]\n",
    "    data = cursor.fetchall()\n",
    "    query_table = pd.DataFrame(data, columns = colnames)\n",
    "    print(query_table)\n",
    "    conn.close()\n",
    "    return"
   ]
  },
  {
   "cell_type": "markdown",
   "metadata": {},
   "source": [
    "**3.** Query the table admissions filtering for admission type as elective and insurance as private."
   ]
  },
  {
   "cell_type": "code",
   "execution_count": 2,
   "metadata": {},
   "outputs": [
    {
     "data": {
      "text/html": [
       "<div>\n",
       "<style scoped>\n",
       "    .dataframe tbody tr th:only-of-type {\n",
       "        vertical-align: middle;\n",
       "    }\n",
       "\n",
       "    .dataframe tbody tr th {\n",
       "        vertical-align: top;\n",
       "    }\n",
       "\n",
       "    .dataframe thead th {\n",
       "        text-align: right;\n",
       "    }\n",
       "</style>\n",
       "<table border=\"1\" class=\"dataframe\">\n",
       "  <thead>\n",
       "    <tr style=\"text-align: right;\">\n",
       "      <th></th>\n",
       "      <th>row_id</th>\n",
       "      <th>subject_id</th>\n",
       "      <th>hadm_id</th>\n",
       "      <th>admittime</th>\n",
       "      <th>dischtime</th>\n",
       "      <th>deathtime</th>\n",
       "      <th>admission_type</th>\n",
       "      <th>admission_location</th>\n",
       "      <th>discharge_location</th>\n",
       "      <th>insurance</th>\n",
       "      <th>language</th>\n",
       "      <th>religion</th>\n",
       "      <th>marital_status</th>\n",
       "      <th>ethnicity</th>\n",
       "      <th>edregtime</th>\n",
       "      <th>edouttime</th>\n",
       "      <th>diagnosis</th>\n",
       "      <th>hospital_expire_flag</th>\n",
       "      <th>has_chartevents_data</th>\n",
       "    </tr>\n",
       "  </thead>\n",
       "  <tbody>\n",
       "    <tr>\n",
       "      <th>0</th>\n",
       "      <td>12315</td>\n",
       "      <td>10065</td>\n",
       "      <td>183314</td>\n",
       "      <td>2189-09-08 07:15:00</td>\n",
       "      <td>2189-09-20 14:00:00</td>\n",
       "      <td>None</td>\n",
       "      <td>ELECTIVE</td>\n",
       "      <td>PHYS REFERRAL/NORMAL DELI</td>\n",
       "      <td>SNF</td>\n",
       "      <td>Private</td>\n",
       "      <td>ENGL</td>\n",
       "      <td>CATHOLIC</td>\n",
       "      <td>SINGLE</td>\n",
       "      <td>WHITE</td>\n",
       "      <td>None</td>\n",
       "      <td>None</td>\n",
       "      <td>ESOPHAGEAL CANCER/SDA</td>\n",
       "      <td>0</td>\n",
       "      <td>1</td>\n",
       "    </tr>\n",
       "    <tr>\n",
       "      <th>1</th>\n",
       "      <td>40972</td>\n",
       "      <td>43798</td>\n",
       "      <td>130870</td>\n",
       "      <td>2198-06-29 07:15:00</td>\n",
       "      <td>2198-08-07 23:59:00</td>\n",
       "      <td>None</td>\n",
       "      <td>ELECTIVE</td>\n",
       "      <td>PHYS REFERRAL/NORMAL DELI</td>\n",
       "      <td>HOME HEALTH CARE</td>\n",
       "      <td>Private</td>\n",
       "      <td>ENGL</td>\n",
       "      <td>CATHOLIC</td>\n",
       "      <td>MARRIED</td>\n",
       "      <td>WHITE</td>\n",
       "      <td>None</td>\n",
       "      <td>None</td>\n",
       "      <td>ESOPHAGEAL CA/SDA</td>\n",
       "      <td>0</td>\n",
       "      <td>1</td>\n",
       "    </tr>\n",
       "    <tr>\n",
       "      <th>2</th>\n",
       "      <td>41053</td>\n",
       "      <td>44083</td>\n",
       "      <td>125157</td>\n",
       "      <td>2112-05-04 08:00:00</td>\n",
       "      <td>2112-05-11 14:15:00</td>\n",
       "      <td>None</td>\n",
       "      <td>ELECTIVE</td>\n",
       "      <td>PHYS REFERRAL/NORMAL DELI</td>\n",
       "      <td>HOME HEALTH CARE</td>\n",
       "      <td>Private</td>\n",
       "      <td>ENGL</td>\n",
       "      <td>CATHOLIC</td>\n",
       "      <td>SINGLE</td>\n",
       "      <td>WHITE</td>\n",
       "      <td>None</td>\n",
       "      <td>None</td>\n",
       "      <td>ESOPHAGEAL CA/SDA</td>\n",
       "      <td>0</td>\n",
       "      <td>1</td>\n",
       "    </tr>\n",
       "  </tbody>\n",
       "</table>\n",
       "</div>"
      ],
      "text/plain": [
       "   row_id  subject_id  hadm_id           admittime           dischtime  \\\n",
       "0   12315       10065   183314 2189-09-08 07:15:00 2189-09-20 14:00:00   \n",
       "1   40972       43798   130870 2198-06-29 07:15:00 2198-08-07 23:59:00   \n",
       "2   41053       44083   125157 2112-05-04 08:00:00 2112-05-11 14:15:00   \n",
       "\n",
       "  deathtime admission_type         admission_location discharge_location  \\\n",
       "0      None       ELECTIVE  PHYS REFERRAL/NORMAL DELI                SNF   \n",
       "1      None       ELECTIVE  PHYS REFERRAL/NORMAL DELI   HOME HEALTH CARE   \n",
       "2      None       ELECTIVE  PHYS REFERRAL/NORMAL DELI   HOME HEALTH CARE   \n",
       "\n",
       "  insurance language  religion marital_status ethnicity edregtime edouttime  \\\n",
       "0   Private     ENGL  CATHOLIC         SINGLE     WHITE      None      None   \n",
       "1   Private     ENGL  CATHOLIC        MARRIED     WHITE      None      None   \n",
       "2   Private     ENGL  CATHOLIC         SINGLE     WHITE      None      None   \n",
       "\n",
       "               diagnosis  hospital_expire_flag  has_chartevents_data  \n",
       "0  ESOPHAGEAL CANCER/SDA                     0                     1  \n",
       "1      ESOPHAGEAL CA/SDA                     0                     1  \n",
       "2      ESOPHAGEAL CA/SDA                     0                     1  "
      ]
     },
     "execution_count": 2,
     "metadata": {},
     "output_type": "execute_result"
    }
   ],
   "source": [
    "filtering = \"SELECT * FROM public.admissions WHERE admission_type = 'ELECTIVE' AND insurance = 'Private'\"\n",
    "cursor.execute(filtering)\n",
    "\n",
    "colnames = [desc[0] for desc in cursor.description]\n",
    "data = cursor.fetchall()\n",
    "\n",
    "\n",
    "\n",
    "filtered_table = pd.DataFrame(data, columns = colnames)\n",
    "filtered_table"
   ]
  },
  {
   "cell_type": "markdown",
   "metadata": {},
   "source": [
    "**4.** Query the table admissions, filtering for the same conditions as the previous exercise (admission type as elective and insurance as private). Join the \"drgcodes\" table on the admission ID. Display only the columns regarding the subject id, admission id, time of death, and description of the drug."
   ]
  },
  {
   "cell_type": "code",
   "execution_count": 3,
   "metadata": {},
   "outputs": [
    {
     "data": {
      "text/html": [
       "<div>\n",
       "<style scoped>\n",
       "    .dataframe tbody tr th:only-of-type {\n",
       "        vertical-align: middle;\n",
       "    }\n",
       "\n",
       "    .dataframe tbody tr th {\n",
       "        vertical-align: top;\n",
       "    }\n",
       "\n",
       "    .dataframe thead th {\n",
       "        text-align: right;\n",
       "    }\n",
       "</style>\n",
       "<table border=\"1\" class=\"dataframe\">\n",
       "  <thead>\n",
       "    <tr style=\"text-align: right;\">\n",
       "      <th></th>\n",
       "      <th>subject_id</th>\n",
       "      <th>admission_type</th>\n",
       "      <th>deathtime</th>\n",
       "      <th>description</th>\n",
       "    </tr>\n",
       "  </thead>\n",
       "  <tbody>\n",
       "    <tr>\n",
       "      <th>0</th>\n",
       "      <td>10065</td>\n",
       "      <td>183314</td>\n",
       "      <td>None</td>\n",
       "      <td>Major Stomach, Esophageal &amp; Duodenal Procedures</td>\n",
       "    </tr>\n",
       "    <tr>\n",
       "      <th>1</th>\n",
       "      <td>10065</td>\n",
       "      <td>183314</td>\n",
       "      <td>None</td>\n",
       "      <td>STOMACH, ESOPHAGEAL &amp; DUODENAL PROC AGE &gt;17 W ...</td>\n",
       "    </tr>\n",
       "    <tr>\n",
       "      <th>2</th>\n",
       "      <td>43798</td>\n",
       "      <td>130870</td>\n",
       "      <td>None</td>\n",
       "      <td>Tracheostomy W Long Term Mechanical Ventilatio...</td>\n",
       "    </tr>\n",
       "    <tr>\n",
       "      <th>3</th>\n",
       "      <td>43798</td>\n",
       "      <td>130870</td>\n",
       "      <td>None</td>\n",
       "      <td>Tracheostomy W Long Term Mechanical Ventilatio...</td>\n",
       "    </tr>\n",
       "    <tr>\n",
       "      <th>4</th>\n",
       "      <td>43798</td>\n",
       "      <td>130870</td>\n",
       "      <td>None</td>\n",
       "      <td>TRACH W MV 96+ HRS OR PDX EXC FACE, MOUTH &amp; NE...</td>\n",
       "    </tr>\n",
       "    <tr>\n",
       "      <th>5</th>\n",
       "      <td>44083</td>\n",
       "      <td>125157</td>\n",
       "      <td>None</td>\n",
       "      <td>Major Stomach, Esophageal &amp; Duodenal Procedures</td>\n",
       "    </tr>\n",
       "    <tr>\n",
       "      <th>6</th>\n",
       "      <td>44083</td>\n",
       "      <td>125157</td>\n",
       "      <td>None</td>\n",
       "      <td>Major Stomach, Esophageal &amp; Duodenal Procedures</td>\n",
       "    </tr>\n",
       "    <tr>\n",
       "      <th>7</th>\n",
       "      <td>44083</td>\n",
       "      <td>125157</td>\n",
       "      <td>None</td>\n",
       "      <td>STOMACH, ESOPHAGEAL &amp; DUODENAL PROC W MCC</td>\n",
       "    </tr>\n",
       "  </tbody>\n",
       "</table>\n",
       "</div>"
      ],
      "text/plain": [
       "   subject_id  admission_type deathtime  \\\n",
       "0       10065          183314      None   \n",
       "1       10065          183314      None   \n",
       "2       43798          130870      None   \n",
       "3       43798          130870      None   \n",
       "4       43798          130870      None   \n",
       "5       44083          125157      None   \n",
       "6       44083          125157      None   \n",
       "7       44083          125157      None   \n",
       "\n",
       "                                         description  \n",
       "0    Major Stomach, Esophageal & Duodenal Procedures  \n",
       "1  STOMACH, ESOPHAGEAL & DUODENAL PROC AGE >17 W ...  \n",
       "2  Tracheostomy W Long Term Mechanical Ventilatio...  \n",
       "3  Tracheostomy W Long Term Mechanical Ventilatio...  \n",
       "4  TRACH W MV 96+ HRS OR PDX EXC FACE, MOUTH & NE...  \n",
       "5    Major Stomach, Esophageal & Duodenal Procedures  \n",
       "6    Major Stomach, Esophageal & Duodenal Procedures  \n",
       "7          STOMACH, ESOPHAGEAL & DUODENAL PROC W MCC  "
      ]
     },
     "execution_count": 3,
     "metadata": {},
     "output_type": "execute_result"
    }
   ],
   "source": [
    "joined = \"SELECT admissions.subject_id, admissions.hadm_id as admission_type, deathtime, drgcodes.description FROM admissions LEFT JOIN drgcodes ON admissions.hadm_id = drgcodes.hadm_id WHERE insurance = 'Private' and admission_type = 'ELECTIVE';\"\n",
    "cursor.execute(joined)\n",
    "\n",
    "colnames = [desc[0] for desc in cursor.description]\n",
    "data2 = cursor.fetchall()\n",
    "\n",
    "\n",
    "joined_table = pd.DataFrame(data2, columns = colnames)\n",
    "joined_table"
   ]
  },
  {
   "cell_type": "markdown",
   "metadata": {},
   "source": [
    "**5.1.** Obtain the dataset for this problem, by running the SQL query below."
   ]
  },
  {
   "cell_type": "code",
   "execution_count": 4,
   "metadata": {},
   "outputs": [
    {
     "data": {
      "text/html": [
       "<div>\n",
       "<style scoped>\n",
       "    .dataframe tbody tr th:only-of-type {\n",
       "        vertical-align: middle;\n",
       "    }\n",
       "\n",
       "    .dataframe tbody tr th {\n",
       "        vertical-align: top;\n",
       "    }\n",
       "\n",
       "    .dataframe thead th {\n",
       "        text-align: right;\n",
       "    }\n",
       "</style>\n",
       "<table border=\"1\" class=\"dataframe\">\n",
       "  <thead>\n",
       "    <tr style=\"text-align: right;\">\n",
       "      <th></th>\n",
       "      <th>subject_id</th>\n",
       "      <th>hadm_id</th>\n",
       "      <th>icustay_id</th>\n",
       "      <th>aniongap_min</th>\n",
       "      <th>aniongap_max</th>\n",
       "      <th>albumin_min</th>\n",
       "      <th>albumin_max</th>\n",
       "      <th>bands_min</th>\n",
       "      <th>bands_max</th>\n",
       "      <th>bicarbonate_min</th>\n",
       "      <th>...</th>\n",
       "      <th>sodium_max</th>\n",
       "      <th>bun_min</th>\n",
       "      <th>bun_max</th>\n",
       "      <th>wbc_min</th>\n",
       "      <th>wbc_max</th>\n",
       "      <th>gender</th>\n",
       "      <th>admission_age</th>\n",
       "      <th>eth_grp</th>\n",
       "      <th>hospital_expire_flag</th>\n",
       "      <th>los_icu</th>\n",
       "    </tr>\n",
       "  </thead>\n",
       "  <tbody>\n",
       "    <tr>\n",
       "      <th>0</th>\n",
       "      <td>10006</td>\n",
       "      <td>142345</td>\n",
       "      <td>206504</td>\n",
       "      <td>12.0</td>\n",
       "      <td>20.0</td>\n",
       "      <td>2.7</td>\n",
       "      <td>3.4</td>\n",
       "      <td>NaN</td>\n",
       "      <td>NaN</td>\n",
       "      <td>29.0</td>\n",
       "      <td>...</td>\n",
       "      <td>139.0</td>\n",
       "      <td>9.0</td>\n",
       "      <td>11.0</td>\n",
       "      <td>4.6</td>\n",
       "      <td>7.8</td>\n",
       "      <td>F</td>\n",
       "      <td>70.0</td>\n",
       "      <td>black</td>\n",
       "      <td>0</td>\n",
       "      <td>1.0</td>\n",
       "    </tr>\n",
       "    <tr>\n",
       "      <th>1</th>\n",
       "      <td>10011</td>\n",
       "      <td>105331</td>\n",
       "      <td>232110</td>\n",
       "      <td>12.0</td>\n",
       "      <td>12.0</td>\n",
       "      <td>2.6</td>\n",
       "      <td>2.6</td>\n",
       "      <td>2.0</td>\n",
       "      <td>2.0</td>\n",
       "      <td>23.0</td>\n",
       "      <td>...</td>\n",
       "      <td>136.0</td>\n",
       "      <td>3.0</td>\n",
       "      <td>3.0</td>\n",
       "      <td>10.6</td>\n",
       "      <td>10.6</td>\n",
       "      <td>F</td>\n",
       "      <td>36.0</td>\n",
       "      <td>unknown</td>\n",
       "      <td>1</td>\n",
       "      <td>13.0</td>\n",
       "    </tr>\n",
       "    <tr>\n",
       "      <th>2</th>\n",
       "      <td>10013</td>\n",
       "      <td>165520</td>\n",
       "      <td>264446</td>\n",
       "      <td>13.0</td>\n",
       "      <td>13.0</td>\n",
       "      <td>NaN</td>\n",
       "      <td>NaN</td>\n",
       "      <td>13.0</td>\n",
       "      <td>13.0</td>\n",
       "      <td>29.0</td>\n",
       "      <td>...</td>\n",
       "      <td>138.0</td>\n",
       "      <td>32.0</td>\n",
       "      <td>32.0</td>\n",
       "      <td>13.8</td>\n",
       "      <td>16.2</td>\n",
       "      <td>F</td>\n",
       "      <td>87.0</td>\n",
       "      <td>unknown</td>\n",
       "      <td>1</td>\n",
       "      <td>2.0</td>\n",
       "    </tr>\n",
       "    <tr>\n",
       "      <th>3</th>\n",
       "      <td>10017</td>\n",
       "      <td>199207</td>\n",
       "      <td>204881</td>\n",
       "      <td>13.0</td>\n",
       "      <td>13.0</td>\n",
       "      <td>2.8</td>\n",
       "      <td>2.8</td>\n",
       "      <td>NaN</td>\n",
       "      <td>NaN</td>\n",
       "      <td>29.0</td>\n",
       "      <td>...</td>\n",
       "      <td>139.0</td>\n",
       "      <td>3.0</td>\n",
       "      <td>3.0</td>\n",
       "      <td>15.8</td>\n",
       "      <td>15.8</td>\n",
       "      <td>F</td>\n",
       "      <td>74.0</td>\n",
       "      <td>white</td>\n",
       "      <td>0</td>\n",
       "      <td>2.0</td>\n",
       "    </tr>\n",
       "    <tr>\n",
       "      <th>4</th>\n",
       "      <td>10019</td>\n",
       "      <td>177759</td>\n",
       "      <td>228977</td>\n",
       "      <td>20.0</td>\n",
       "      <td>46.0</td>\n",
       "      <td>3.2</td>\n",
       "      <td>3.2</td>\n",
       "      <td>NaN</td>\n",
       "      <td>NaN</td>\n",
       "      <td>10.0</td>\n",
       "      <td>...</td>\n",
       "      <td>141.0</td>\n",
       "      <td>31.0</td>\n",
       "      <td>53.0</td>\n",
       "      <td>3.7</td>\n",
       "      <td>6.8</td>\n",
       "      <td>M</td>\n",
       "      <td>49.0</td>\n",
       "      <td>white</td>\n",
       "      <td>1</td>\n",
       "      <td>1.0</td>\n",
       "    </tr>\n",
       "    <tr>\n",
       "      <th>...</th>\n",
       "      <td>...</td>\n",
       "      <td>...</td>\n",
       "      <td>...</td>\n",
       "      <td>...</td>\n",
       "      <td>...</td>\n",
       "      <td>...</td>\n",
       "      <td>...</td>\n",
       "      <td>...</td>\n",
       "      <td>...</td>\n",
       "      <td>...</td>\n",
       "      <td>...</td>\n",
       "      <td>...</td>\n",
       "      <td>...</td>\n",
       "      <td>...</td>\n",
       "      <td>...</td>\n",
       "      <td>...</td>\n",
       "      <td>...</td>\n",
       "      <td>...</td>\n",
       "      <td>...</td>\n",
       "      <td>...</td>\n",
       "      <td>...</td>\n",
       "    </tr>\n",
       "    <tr>\n",
       "      <th>123</th>\n",
       "      <td>44083</td>\n",
       "      <td>198330</td>\n",
       "      <td>286428</td>\n",
       "      <td>16.0</td>\n",
       "      <td>16.0</td>\n",
       "      <td>NaN</td>\n",
       "      <td>NaN</td>\n",
       "      <td>NaN</td>\n",
       "      <td>NaN</td>\n",
       "      <td>21.0</td>\n",
       "      <td>...</td>\n",
       "      <td>142.0</td>\n",
       "      <td>12.0</td>\n",
       "      <td>12.0</td>\n",
       "      <td>12.3</td>\n",
       "      <td>14.9</td>\n",
       "      <td>M</td>\n",
       "      <td>55.0</td>\n",
       "      <td>white</td>\n",
       "      <td>0</td>\n",
       "      <td>3.0</td>\n",
       "    </tr>\n",
       "    <tr>\n",
       "      <th>124</th>\n",
       "      <td>44154</td>\n",
       "      <td>174245</td>\n",
       "      <td>217724</td>\n",
       "      <td>15.0</td>\n",
       "      <td>15.0</td>\n",
       "      <td>NaN</td>\n",
       "      <td>NaN</td>\n",
       "      <td>NaN</td>\n",
       "      <td>NaN</td>\n",
       "      <td>19.0</td>\n",
       "      <td>...</td>\n",
       "      <td>142.0</td>\n",
       "      <td>16.0</td>\n",
       "      <td>21.0</td>\n",
       "      <td>12.2</td>\n",
       "      <td>17.1</td>\n",
       "      <td>M</td>\n",
       "      <td>300.0</td>\n",
       "      <td>white</td>\n",
       "      <td>1</td>\n",
       "      <td>0.0</td>\n",
       "    </tr>\n",
       "    <tr>\n",
       "      <th>125</th>\n",
       "      <td>44212</td>\n",
       "      <td>163189</td>\n",
       "      <td>239396</td>\n",
       "      <td>15.0</td>\n",
       "      <td>21.0</td>\n",
       "      <td>2.9</td>\n",
       "      <td>3.0</td>\n",
       "      <td>NaN</td>\n",
       "      <td>NaN</td>\n",
       "      <td>18.0</td>\n",
       "      <td>...</td>\n",
       "      <td>150.0</td>\n",
       "      <td>37.0</td>\n",
       "      <td>57.0</td>\n",
       "      <td>8.8</td>\n",
       "      <td>11.4</td>\n",
       "      <td>F</td>\n",
       "      <td>45.0</td>\n",
       "      <td>black</td>\n",
       "      <td>0</td>\n",
       "      <td>31.0</td>\n",
       "    </tr>\n",
       "    <tr>\n",
       "      <th>126</th>\n",
       "      <td>44222</td>\n",
       "      <td>192189</td>\n",
       "      <td>238186</td>\n",
       "      <td>11.0</td>\n",
       "      <td>15.0</td>\n",
       "      <td>NaN</td>\n",
       "      <td>NaN</td>\n",
       "      <td>NaN</td>\n",
       "      <td>NaN</td>\n",
       "      <td>22.0</td>\n",
       "      <td>...</td>\n",
       "      <td>135.0</td>\n",
       "      <td>21.0</td>\n",
       "      <td>24.0</td>\n",
       "      <td>9.3</td>\n",
       "      <td>9.9</td>\n",
       "      <td>M</td>\n",
       "      <td>73.0</td>\n",
       "      <td>white</td>\n",
       "      <td>0</td>\n",
       "      <td>1.0</td>\n",
       "    </tr>\n",
       "    <tr>\n",
       "      <th>127</th>\n",
       "      <td>44228</td>\n",
       "      <td>103379</td>\n",
       "      <td>217992</td>\n",
       "      <td>12.0</td>\n",
       "      <td>18.0</td>\n",
       "      <td>2.2</td>\n",
       "      <td>2.7</td>\n",
       "      <td>NaN</td>\n",
       "      <td>NaN</td>\n",
       "      <td>15.0</td>\n",
       "      <td>...</td>\n",
       "      <td>142.0</td>\n",
       "      <td>10.0</td>\n",
       "      <td>11.0</td>\n",
       "      <td>7.0</td>\n",
       "      <td>41.9</td>\n",
       "      <td>F</td>\n",
       "      <td>58.0</td>\n",
       "      <td>white</td>\n",
       "      <td>0</td>\n",
       "      <td>4.0</td>\n",
       "    </tr>\n",
       "  </tbody>\n",
       "</table>\n",
       "<p>128 rows × 46 columns</p>\n",
       "</div>"
      ],
      "text/plain": [
       "     subject_id  hadm_id  icustay_id  aniongap_min  aniongap_max  albumin_min  \\\n",
       "0         10006   142345      206504          12.0          20.0          2.7   \n",
       "1         10011   105331      232110          12.0          12.0          2.6   \n",
       "2         10013   165520      264446          13.0          13.0          NaN   \n",
       "3         10017   199207      204881          13.0          13.0          2.8   \n",
       "4         10019   177759      228977          20.0          46.0          3.2   \n",
       "..          ...      ...         ...           ...           ...          ...   \n",
       "123       44083   198330      286428          16.0          16.0          NaN   \n",
       "124       44154   174245      217724          15.0          15.0          NaN   \n",
       "125       44212   163189      239396          15.0          21.0          2.9   \n",
       "126       44222   192189      238186          11.0          15.0          NaN   \n",
       "127       44228   103379      217992          12.0          18.0          2.2   \n",
       "\n",
       "     albumin_max  bands_min  bands_max  bicarbonate_min  ...  sodium_max  \\\n",
       "0            3.4        NaN        NaN             29.0  ...       139.0   \n",
       "1            2.6        2.0        2.0             23.0  ...       136.0   \n",
       "2            NaN       13.0       13.0             29.0  ...       138.0   \n",
       "3            2.8        NaN        NaN             29.0  ...       139.0   \n",
       "4            3.2        NaN        NaN             10.0  ...       141.0   \n",
       "..           ...        ...        ...              ...  ...         ...   \n",
       "123          NaN        NaN        NaN             21.0  ...       142.0   \n",
       "124          NaN        NaN        NaN             19.0  ...       142.0   \n",
       "125          3.0        NaN        NaN             18.0  ...       150.0   \n",
       "126          NaN        NaN        NaN             22.0  ...       135.0   \n",
       "127          2.7        NaN        NaN             15.0  ...       142.0   \n",
       "\n",
       "     bun_min  bun_max  wbc_min  wbc_max  gender  admission_age  eth_grp  \\\n",
       "0        9.0     11.0      4.6      7.8       F           70.0    black   \n",
       "1        3.0      3.0     10.6     10.6       F           36.0  unknown   \n",
       "2       32.0     32.0     13.8     16.2       F           87.0  unknown   \n",
       "3        3.0      3.0     15.8     15.8       F           74.0    white   \n",
       "4       31.0     53.0      3.7      6.8       M           49.0    white   \n",
       "..       ...      ...      ...      ...     ...            ...      ...   \n",
       "123     12.0     12.0     12.3     14.9       M           55.0    white   \n",
       "124     16.0     21.0     12.2     17.1       M          300.0    white   \n",
       "125     37.0     57.0      8.8     11.4       F           45.0    black   \n",
       "126     21.0     24.0      9.3      9.9       M           73.0    white   \n",
       "127     10.0     11.0      7.0     41.9       F           58.0    white   \n",
       "\n",
       "     hospital_expire_flag  los_icu  \n",
       "0                       0      1.0  \n",
       "1                       1     13.0  \n",
       "2                       1      2.0  \n",
       "3                       0      2.0  \n",
       "4                       1      1.0  \n",
       "..                    ...      ...  \n",
       "123                     0      3.0  \n",
       "124                     1      0.0  \n",
       "125                     0     31.0  \n",
       "126                     0      1.0  \n",
       "127                     0      4.0  \n",
       "\n",
       "[128 rows x 46 columns]"
      ]
     },
     "execution_count": 4,
     "metadata": {},
     "output_type": "execute_result"
    }
   ],
   "source": [
    "dataset = \"SELECT pivoted_lab.*,\" +\\\n",
    "                \"gender as gender,\" +\\\n",
    "                \"admission_age,\" +\\\n",
    "                \"ethnicity_grouped as eth_grp,\" +\\\n",
    "                \"hospital_expire_flag,\" +\\\n",
    "                \"los_icu \" +\\\n",
    "        \"FROM demographics \" +\\\n",
    "        \"LEFT JOIN pivoted_lab \" +\\\n",
    "        \"ON demographics.icustay_id = pivoted_lab.icustay_id \" +\\\n",
    "        \"WHERE first_icu_stay = true\"\n",
    "cursor.execute(dataset)\n",
    "\n",
    "colnames = [desc[0] for desc in cursor.description]\n",
    "data3 = cursor.fetchall()\n",
    "\n",
    "\n",
    "dataset_table = pd.DataFrame(data3, columns = colnames)\n",
    "dataset_table"
   ]
  },
  {
   "cell_type": "markdown",
   "metadata": {},
   "source": [
    "**5.2.** Close the connection to your SQL server."
   ]
  },
  {
   "cell_type": "code",
   "execution_count": 7,
   "metadata": {},
   "outputs": [],
   "source": [
    "conn.close()"
   ]
  },
  {
   "cell_type": "markdown",
   "metadata": {},
   "source": [
    "**5.3.** Prepare your dataset:\n",
    "\n",
    "* Drop the ID columns of subject, admission and ICU stay.\n",
    "* Drop columns with at least one NA value.\n",
    "* Encode the categorical columns, the ethnicity and gender ('eth_grp', 'gender'). *Suggestion: use pd.get_dummies*"
   ]
  },
  {
   "cell_type": "code",
   "execution_count": 5,
   "metadata": {
    "scrolled": true
   },
   "outputs": [
    {
     "data": {
      "text/html": [
       "<div>\n",
       "<style scoped>\n",
       "    .dataframe tbody tr th:only-of-type {\n",
       "        vertical-align: middle;\n",
       "    }\n",
       "\n",
       "    .dataframe tbody tr th {\n",
       "        vertical-align: top;\n",
       "    }\n",
       "\n",
       "    .dataframe thead th {\n",
       "        text-align: right;\n",
       "    }\n",
       "</style>\n",
       "<table border=\"1\" class=\"dataframe\">\n",
       "  <thead>\n",
       "    <tr style=\"text-align: right;\">\n",
       "      <th></th>\n",
       "      <th>bicarbonate_min</th>\n",
       "      <th>bicarbonate_max</th>\n",
       "      <th>creatinine_min</th>\n",
       "      <th>creatinine_max</th>\n",
       "      <th>chloride_min</th>\n",
       "      <th>chloride_max</th>\n",
       "      <th>glucose_min</th>\n",
       "      <th>glucose_max</th>\n",
       "      <th>hematocrit_min</th>\n",
       "      <th>hematocrit_max</th>\n",
       "      <th>...</th>\n",
       "      <th>los_icu</th>\n",
       "      <th>eth_grp_asian</th>\n",
       "      <th>eth_grp_black</th>\n",
       "      <th>eth_grp_hispanic</th>\n",
       "      <th>eth_grp_native</th>\n",
       "      <th>eth_grp_other</th>\n",
       "      <th>eth_grp_unknown</th>\n",
       "      <th>eth_grp_white</th>\n",
       "      <th>gender_F</th>\n",
       "      <th>gender_M</th>\n",
       "    </tr>\n",
       "  </thead>\n",
       "  <tbody>\n",
       "    <tr>\n",
       "      <th>0</th>\n",
       "      <td>29.0</td>\n",
       "      <td>31.0</td>\n",
       "      <td>3.0</td>\n",
       "      <td>3.5</td>\n",
       "      <td>96.0</td>\n",
       "      <td>100.0</td>\n",
       "      <td>84.0</td>\n",
       "      <td>217.0</td>\n",
       "      <td>36.9</td>\n",
       "      <td>42.4</td>\n",
       "      <td>...</td>\n",
       "      <td>1.0</td>\n",
       "      <td>0</td>\n",
       "      <td>1</td>\n",
       "      <td>0</td>\n",
       "      <td>0</td>\n",
       "      <td>0</td>\n",
       "      <td>0</td>\n",
       "      <td>0</td>\n",
       "      <td>1</td>\n",
       "      <td>0</td>\n",
       "    </tr>\n",
       "    <tr>\n",
       "      <th>1</th>\n",
       "      <td>23.0</td>\n",
       "      <td>23.0</td>\n",
       "      <td>0.7</td>\n",
       "      <td>0.7</td>\n",
       "      <td>107.0</td>\n",
       "      <td>107.0</td>\n",
       "      <td>79.0</td>\n",
       "      <td>79.0</td>\n",
       "      <td>33.9</td>\n",
       "      <td>34.0</td>\n",
       "      <td>...</td>\n",
       "      <td>13.0</td>\n",
       "      <td>0</td>\n",
       "      <td>0</td>\n",
       "      <td>0</td>\n",
       "      <td>0</td>\n",
       "      <td>0</td>\n",
       "      <td>1</td>\n",
       "      <td>0</td>\n",
       "      <td>1</td>\n",
       "      <td>0</td>\n",
       "    </tr>\n",
       "    <tr>\n",
       "      <th>2</th>\n",
       "      <td>29.0</td>\n",
       "      <td>29.0</td>\n",
       "      <td>1.7</td>\n",
       "      <td>1.7</td>\n",
       "      <td>98.0</td>\n",
       "      <td>100.0</td>\n",
       "      <td>134.0</td>\n",
       "      <td>165.0</td>\n",
       "      <td>28.1</td>\n",
       "      <td>29.2</td>\n",
       "      <td>...</td>\n",
       "      <td>2.0</td>\n",
       "      <td>0</td>\n",
       "      <td>0</td>\n",
       "      <td>0</td>\n",
       "      <td>0</td>\n",
       "      <td>0</td>\n",
       "      <td>1</td>\n",
       "      <td>0</td>\n",
       "      <td>1</td>\n",
       "      <td>0</td>\n",
       "    </tr>\n",
       "    <tr>\n",
       "      <th>3</th>\n",
       "      <td>29.0</td>\n",
       "      <td>29.0</td>\n",
       "      <td>0.3</td>\n",
       "      <td>0.3</td>\n",
       "      <td>100.0</td>\n",
       "      <td>100.0</td>\n",
       "      <td>137.0</td>\n",
       "      <td>137.0</td>\n",
       "      <td>27.5</td>\n",
       "      <td>27.5</td>\n",
       "      <td>...</td>\n",
       "      <td>2.0</td>\n",
       "      <td>0</td>\n",
       "      <td>0</td>\n",
       "      <td>0</td>\n",
       "      <td>0</td>\n",
       "      <td>0</td>\n",
       "      <td>0</td>\n",
       "      <td>1</td>\n",
       "      <td>1</td>\n",
       "      <td>0</td>\n",
       "    </tr>\n",
       "    <tr>\n",
       "      <th>4</th>\n",
       "      <td>10.0</td>\n",
       "      <td>18.0</td>\n",
       "      <td>4.0</td>\n",
       "      <td>7.2</td>\n",
       "      <td>83.0</td>\n",
       "      <td>104.0</td>\n",
       "      <td>80.0</td>\n",
       "      <td>360.0</td>\n",
       "      <td>30.6</td>\n",
       "      <td>36.0</td>\n",
       "      <td>...</td>\n",
       "      <td>1.0</td>\n",
       "      <td>0</td>\n",
       "      <td>0</td>\n",
       "      <td>0</td>\n",
       "      <td>0</td>\n",
       "      <td>0</td>\n",
       "      <td>0</td>\n",
       "      <td>1</td>\n",
       "      <td>0</td>\n",
       "      <td>1</td>\n",
       "    </tr>\n",
       "    <tr>\n",
       "      <th>...</th>\n",
       "      <td>...</td>\n",
       "      <td>...</td>\n",
       "      <td>...</td>\n",
       "      <td>...</td>\n",
       "      <td>...</td>\n",
       "      <td>...</td>\n",
       "      <td>...</td>\n",
       "      <td>...</td>\n",
       "      <td>...</td>\n",
       "      <td>...</td>\n",
       "      <td>...</td>\n",
       "      <td>...</td>\n",
       "      <td>...</td>\n",
       "      <td>...</td>\n",
       "      <td>...</td>\n",
       "      <td>...</td>\n",
       "      <td>...</td>\n",
       "      <td>...</td>\n",
       "      <td>...</td>\n",
       "      <td>...</td>\n",
       "      <td>...</td>\n",
       "    </tr>\n",
       "    <tr>\n",
       "      <th>123</th>\n",
       "      <td>21.0</td>\n",
       "      <td>21.0</td>\n",
       "      <td>0.7</td>\n",
       "      <td>0.7</td>\n",
       "      <td>108.0</td>\n",
       "      <td>108.0</td>\n",
       "      <td>151.0</td>\n",
       "      <td>151.0</td>\n",
       "      <td>26.0</td>\n",
       "      <td>29.0</td>\n",
       "      <td>...</td>\n",
       "      <td>3.0</td>\n",
       "      <td>0</td>\n",
       "      <td>0</td>\n",
       "      <td>0</td>\n",
       "      <td>0</td>\n",
       "      <td>0</td>\n",
       "      <td>0</td>\n",
       "      <td>1</td>\n",
       "      <td>0</td>\n",
       "      <td>1</td>\n",
       "    </tr>\n",
       "    <tr>\n",
       "      <th>124</th>\n",
       "      <td>19.0</td>\n",
       "      <td>19.0</td>\n",
       "      <td>0.9</td>\n",
       "      <td>0.9</td>\n",
       "      <td>107.0</td>\n",
       "      <td>113.0</td>\n",
       "      <td>164.0</td>\n",
       "      <td>177.0</td>\n",
       "      <td>40.8</td>\n",
       "      <td>41.8</td>\n",
       "      <td>...</td>\n",
       "      <td>0.0</td>\n",
       "      <td>0</td>\n",
       "      <td>0</td>\n",
       "      <td>0</td>\n",
       "      <td>0</td>\n",
       "      <td>0</td>\n",
       "      <td>0</td>\n",
       "      <td>1</td>\n",
       "      <td>0</td>\n",
       "      <td>1</td>\n",
       "    </tr>\n",
       "    <tr>\n",
       "      <th>125</th>\n",
       "      <td>18.0</td>\n",
       "      <td>23.0</td>\n",
       "      <td>3.0</td>\n",
       "      <td>4.8</td>\n",
       "      <td>108.0</td>\n",
       "      <td>115.0</td>\n",
       "      <td>99.0</td>\n",
       "      <td>122.0</td>\n",
       "      <td>23.8</td>\n",
       "      <td>25.9</td>\n",
       "      <td>...</td>\n",
       "      <td>31.0</td>\n",
       "      <td>0</td>\n",
       "      <td>1</td>\n",
       "      <td>0</td>\n",
       "      <td>0</td>\n",
       "      <td>0</td>\n",
       "      <td>0</td>\n",
       "      <td>0</td>\n",
       "      <td>1</td>\n",
       "      <td>0</td>\n",
       "    </tr>\n",
       "    <tr>\n",
       "      <th>126</th>\n",
       "      <td>22.0</td>\n",
       "      <td>27.0</td>\n",
       "      <td>1.2</td>\n",
       "      <td>1.7</td>\n",
       "      <td>100.0</td>\n",
       "      <td>101.0</td>\n",
       "      <td>56.0</td>\n",
       "      <td>268.0</td>\n",
       "      <td>37.8</td>\n",
       "      <td>39.0</td>\n",
       "      <td>...</td>\n",
       "      <td>1.0</td>\n",
       "      <td>0</td>\n",
       "      <td>0</td>\n",
       "      <td>0</td>\n",
       "      <td>0</td>\n",
       "      <td>0</td>\n",
       "      <td>0</td>\n",
       "      <td>1</td>\n",
       "      <td>0</td>\n",
       "      <td>1</td>\n",
       "    </tr>\n",
       "    <tr>\n",
       "      <th>127</th>\n",
       "      <td>15.0</td>\n",
       "      <td>24.0</td>\n",
       "      <td>0.6</td>\n",
       "      <td>0.8</td>\n",
       "      <td>103.0</td>\n",
       "      <td>115.0</td>\n",
       "      <td>91.0</td>\n",
       "      <td>132.0</td>\n",
       "      <td>22.6</td>\n",
       "      <td>27.6</td>\n",
       "      <td>...</td>\n",
       "      <td>4.0</td>\n",
       "      <td>0</td>\n",
       "      <td>0</td>\n",
       "      <td>0</td>\n",
       "      <td>0</td>\n",
       "      <td>0</td>\n",
       "      <td>0</td>\n",
       "      <td>1</td>\n",
       "      <td>1</td>\n",
       "      <td>0</td>\n",
       "    </tr>\n",
       "  </tbody>\n",
       "</table>\n",
       "<p>128 rows × 32 columns</p>\n",
       "</div>"
      ],
      "text/plain": [
       "     bicarbonate_min  bicarbonate_max  creatinine_min  creatinine_max  \\\n",
       "0               29.0             31.0             3.0             3.5   \n",
       "1               23.0             23.0             0.7             0.7   \n",
       "2               29.0             29.0             1.7             1.7   \n",
       "3               29.0             29.0             0.3             0.3   \n",
       "4               10.0             18.0             4.0             7.2   \n",
       "..               ...              ...             ...             ...   \n",
       "123             21.0             21.0             0.7             0.7   \n",
       "124             19.0             19.0             0.9             0.9   \n",
       "125             18.0             23.0             3.0             4.8   \n",
       "126             22.0             27.0             1.2             1.7   \n",
       "127             15.0             24.0             0.6             0.8   \n",
       "\n",
       "     chloride_min  chloride_max  glucose_min  glucose_max  hematocrit_min  \\\n",
       "0            96.0         100.0         84.0        217.0            36.9   \n",
       "1           107.0         107.0         79.0         79.0            33.9   \n",
       "2            98.0         100.0        134.0        165.0            28.1   \n",
       "3           100.0         100.0        137.0        137.0            27.5   \n",
       "4            83.0         104.0         80.0        360.0            30.6   \n",
       "..            ...           ...          ...          ...             ...   \n",
       "123         108.0         108.0        151.0        151.0            26.0   \n",
       "124         107.0         113.0        164.0        177.0            40.8   \n",
       "125         108.0         115.0         99.0        122.0            23.8   \n",
       "126         100.0         101.0         56.0        268.0            37.8   \n",
       "127         103.0         115.0         91.0        132.0            22.6   \n",
       "\n",
       "     hematocrit_max  ...  los_icu  eth_grp_asian  eth_grp_black  \\\n",
       "0              42.4  ...      1.0              0              1   \n",
       "1              34.0  ...     13.0              0              0   \n",
       "2              29.2  ...      2.0              0              0   \n",
       "3              27.5  ...      2.0              0              0   \n",
       "4              36.0  ...      1.0              0              0   \n",
       "..              ...  ...      ...            ...            ...   \n",
       "123            29.0  ...      3.0              0              0   \n",
       "124            41.8  ...      0.0              0              0   \n",
       "125            25.9  ...     31.0              0              1   \n",
       "126            39.0  ...      1.0              0              0   \n",
       "127            27.6  ...      4.0              0              0   \n",
       "\n",
       "     eth_grp_hispanic  eth_grp_native  eth_grp_other  eth_grp_unknown  \\\n",
       "0                   0               0              0                0   \n",
       "1                   0               0              0                1   \n",
       "2                   0               0              0                1   \n",
       "3                   0               0              0                0   \n",
       "4                   0               0              0                0   \n",
       "..                ...             ...            ...              ...   \n",
       "123                 0               0              0                0   \n",
       "124                 0               0              0                0   \n",
       "125                 0               0              0                0   \n",
       "126                 0               0              0                0   \n",
       "127                 0               0              0                0   \n",
       "\n",
       "     eth_grp_white  gender_F  gender_M  \n",
       "0                0         1         0  \n",
       "1                0         1         0  \n",
       "2                0         1         0  \n",
       "3                1         1         0  \n",
       "4                1         0         1  \n",
       "..             ...       ...       ...  \n",
       "123              1         0         1  \n",
       "124              1         0         1  \n",
       "125              0         1         0  \n",
       "126              1         0         1  \n",
       "127              1         1         0  \n",
       "\n",
       "[128 rows x 32 columns]"
      ]
     },
     "execution_count": 5,
     "metadata": {},
     "output_type": "execute_result"
    }
   ],
   "source": [
    "dummies = pd.get_dummies(dataset_table[['eth_grp', 'gender']])\n",
    "dataset_table = pd.concat([dataset_table, dummies[['eth_grp_asian', 'eth_grp_black' ,'eth_grp_hispanic', 'eth_grp_native', 'eth_grp_other', 'eth_grp_unknown', 'eth_grp_white', 'gender_F', 'gender_M']]], axis=1)\n",
    "dataset_table.drop(['subject_id', 'hadm_id', 'icustay_id','eth_grp', 'gender'], inplace=True, axis=1)\n",
    "dataset_table = dataset_table.dropna(axis='columns')\n",
    "dataset_table"
   ]
  },
  {
   "cell_type": "markdown",
   "metadata": {},
   "source": [
    "**6.** Fit the following tree-based classifiers to the dataset. For each method:\n",
    "\n",
    "* Perform k-fold cross validation to evaluate the models. Consider 10 folds.\n",
    "\n",
    "* Plot the ROC curves for each fold, along with the mean ROC curve.\n",
    "\n",
    "* Calculate the mean AUC.\n",
    "\n",
    "**a.** Decision tree."
   ]
  },
  {
   "cell_type": "code",
   "execution_count": 2,
   "metadata": {
    "scrolled": true
   },
   "outputs": [
    {
     "data": {
      "image/png": "[encoded data removed]",
      "text/plain": [
       "<Figure size 432x288 with 1 Axes>"
      ]
     },
     "metadata": {
      "needs_background": "light"
     },
     "output_type": "display_data"
    },
    {
     "name": "stdout",
     "output_type": "stream",
     "text": [
      "Mean AUC = 0.5367189925844655\n"
     ]
    }
   ],
   "source": [
    "import numpy as np\n",
    "import matplotlib.pyplot as plt\n",
    "import pandas as pd\n",
    "\n",
    "from sklearn.metrics import confusion_matrix, mean_squared_error, auc, roc_curve\n",
    "dataset = pd.read_csv('dataset_table.csv')\n",
    "cols= ['Unnamed: 0','bicarbonate_min','bicarbonate_max','creatinine_min','creatinine_max', 'chloride_min','chloride_max','glucose_min','glucose_max','hematocrit_min','hematocrit_max','platelet_min','platelet_max','potassium_min','potassium_max','sodium_min','sodium_max','bun_min','bun_max','wbc_min','wbc_max','admission_age','los_icu','eth_grp_asian','eth_grp_black','eth_grp_hispanic','eth_grp_native','eth_grp_other','eth_grp_unknown','eth_grp_white','gender_F','gender_M','hospital_expire_flag']\n",
    "dataset = dataset[cols] \n",
    "X = dataset.iloc[:, 1:-1]\n",
    "y = dataset.iloc[:, -1]\n",
    "\n",
    "from sklearn.model_selection import train_test_split, KFold\n",
    "X_train, X_test, y_train, y_test = train_test_split(X, y, test_size = 0.30, random_state = 0)\n",
    "\n",
    "from sklearn.tree import DecisionTreeClassifier\n",
    "classifier = DecisionTreeClassifier(criterion = 'entropy', random_state = 0)\n",
    "classifier.fit(X_train, y_train)\n",
    "seed= 0\n",
    "\n",
    "kfold = KFold(n_splits=10, shuffle=True, random_state=seed)\n",
    "\n",
    "clf_rfc = DecisionTreeClassifier(criterion = 'entropy', random_state = 0)\n",
    "\n",
    "tprs = []\n",
    "aucs = []\n",
    "\n",
    "mean_fpr = np.linspace(0,1,100)\n",
    "\n",
    "fig, ax = plt.subplots()\n",
    "\n",
    "for i, (train,test) in enumerate(kfold.split(X,y)):\n",
    "    clf_rfc.fit(X.loc[train], y[train])\n",
    "    y_proba = clf_rfc.predict_proba(X.loc[test]) \n",
    "    fpr, tpr, _ = roc_curve(y[test], y_proba[:,1])\n",
    "    \n",
    "    interp_tpr = np.interp(mean_fpr, fpr, tpr)\n",
    "    interp_tpr[0] = 0.0\n",
    "    \n",
    "    tprs.append(interp_tpr)\n",
    "    aucs.append(auc(fpr,tpr))\n",
    "    \n",
    "    ax.plot(\n",
    "        fpr, tpr,\n",
    "        label='ROC fold ' + str(i+1) +  ' - AUC = ' + str(np.round(auc(fpr,tpr),2)),\n",
    "        lw=1,\n",
    "        alpha=0.3)\n",
    "\n",
    "ax.plot([0, 1], [0, 1], linestyle=\"--\", lw=2, color=\"r\", label=\"Chance\", alpha=0.8)\n",
    "\n",
    "mean_tpr = np.mean(tprs, axis=0)\n",
    "mean_tpr[-1] = 1.0\n",
    "mean_auc = auc(mean_fpr, mean_tpr)\n",
    "std_auc = np.std(aucs)\n",
    "\n",
    "# Plot mean roc curve auc\n",
    "ax.plot(\n",
    "    mean_fpr,\n",
    "    mean_tpr,\n",
    "    color=\"b\",\n",
    "    label=r\"Mean ROC (AUC = %0.2f $\\pm$ %0.2f)\" % (mean_auc, std_auc),\n",
    "    lw=2,\n",
    "    alpha=0.8,\n",
    ")\n",
    "\n",
    "ax.set(\n",
    "    xlim=[-0.05, 1.05],\n",
    "    ylim=[-0.05, 1.05],\n",
    "    title=\"Receiver operating characteristic example\",\n",
    ")\n",
    "\n",
    "ax.legend(loc=\"lower right\")\n",
    "plt.rcParams['figure.figsize'] = [15, 6]\n",
    "plt.show()\n",
    "print('Mean AUC = ' + str(mean_auc))"
   ]
  },
  {
   "cell_type": "code",
   "execution_count": 3,
   "metadata": {},
   "outputs": [
    {
     "name": "stdout",
     "output_type": "stream",
     "text": [
      "[[22  6]\n",
      " [ 6  5]]\n"
     ]
    },
    {
     "data": {
      "text/plain": [
       "0.6923076923076923"
      ]
     },
     "execution_count": 3,
     "metadata": {},
     "output_type": "execute_result"
    }
   ],
   "source": [
    "from sklearn.metrics import confusion_matrix, accuracy_score\n",
    "y_pred = classifier.predict(X_test)\n",
    "cm = confusion_matrix(y_test, y_pred)\n",
    "print(cm)\n",
    "accuracy_score(y_test, y_pred)"
   ]
  },
  {
   "cell_type": "markdown",
   "metadata": {},
   "source": [
    "**b.** Random forest"
   ]
  },
  {
   "cell_type": "code",
   "execution_count": 4,
   "metadata": {},
   "outputs": [
    {
     "data": {
      "image/png": "[encoded data removed]",
      "text/plain": [
       "<Figure size 1080x432 with 1 Axes>"
      ]
     },
     "metadata": {
      "needs_background": "light"
     },
     "output_type": "display_data"
    },
    {
     "name": "stdout",
     "output_type": "stream",
     "text": [
      "Mean AUC = 0.6976065367479508\n"
     ]
    }
   ],
   "source": [
    "from sklearn.ensemble import RandomForestClassifier,GradientBoostingClassifier\n",
    "classifier = RandomForestClassifier(n_estimators = 10, criterion = 'entropy', random_state = 0)\n",
    "classifier.fit(X_train, y_train)\n",
    "\n",
    "kfold = KFold(n_splits=10, shuffle=True, random_state=seed)\n",
    "\n",
    "# Random Forest Classifier\n",
    "clf_rfc = RandomForestClassifier(n_estimators=200, random_state=seed)\n",
    "\n",
    "\n",
    "tprs = []\n",
    "aucs = []\n",
    "\n",
    "mean_fpr = np.linspace(0,1,100)\n",
    "\n",
    "fig, ax = plt.subplots()\n",
    "\n",
    "for i, (train,test) in enumerate(kfold.split(X,y)):\n",
    "    clf_rfc.fit(X.loc[train], y[train])\n",
    "    y_proba = clf_rfc.predict_proba(X.loc[test]) \n",
    "    fpr, tpr, _ = roc_curve(y[test], y_proba[:,1])\n",
    "    \n",
    "    interp_tpr = np.interp(mean_fpr, fpr, tpr)\n",
    "    interp_tpr[0] = 0.0\n",
    "    \n",
    "    tprs.append(interp_tpr)\n",
    "    aucs.append(auc(fpr,tpr))\n",
    "    \n",
    "    ax.plot(\n",
    "        fpr, tpr,\n",
    "        label='ROC fold ' + str(i+1) +  ' - AUC = ' + str(np.round(auc(fpr,tpr),2)),\n",
    "        lw=1,\n",
    "        alpha=0.3)\n",
    "\n",
    "ax.plot([0, 1], [0, 1], linestyle=\"--\", lw=2, color=\"r\", label=\"Chance\", alpha=0.8)\n",
    "\n",
    "mean_tpr = np.mean(tprs, axis=0)\n",
    "mean_tpr[-1] = 1.0\n",
    "mean_auc = auc(mean_fpr, mean_tpr)\n",
    "std_auc = np.std(aucs)\n",
    "\n",
    "# Plot mean roc curve auc\n",
    "ax.plot(\n",
    "    mean_fpr,\n",
    "    mean_tpr,\n",
    "    color=\"b\",\n",
    "    label=r\"Mean ROC (AUC = %0.2f $\\pm$ %0.2f)\" % (mean_auc, std_auc),\n",
    "    lw=2,\n",
    "    alpha=0.8,\n",
    ")\n",
    "\n",
    "ax.set(\n",
    "    xlim=[-0.05, 1.05],\n",
    "    ylim=[-0.05, 1.05],\n",
    "    title=\"Receiver operating characteristic example\",\n",
    ")\n",
    "\n",
    "ax.legend(loc=\"lower right\")\n",
    "plt.rcParams['figure.figsize'] = [15, 6]\n",
    "plt.show()\n",
    "print('Mean AUC = ' + str(mean_auc))"
   ]
  },
  {
   "cell_type": "code",
   "execution_count": 5,
   "metadata": {},
   "outputs": [
    {
     "name": "stdout",
     "output_type": "stream",
     "text": [
      "[[25  3]\n",
      " [ 8  3]]\n"
     ]
    },
    {
     "data": {
      "text/plain": [
       "0.717948717948718"
      ]
     },
     "execution_count": 5,
     "metadata": {},
     "output_type": "execute_result"
    }
   ],
   "source": [
    "y_pred = classifier.predict(X_test)\n",
    "cm = confusion_matrix(y_test, y_pred)\n",
    "print(cm)\n",
    "accuracy_score(y_test, y_pred)"
   ]
  },
  {
   "cell_type": "markdown",
   "metadata": {},
   "source": [
    "**c.** Gradient Boosting"
   ]
  },
  {
   "cell_type": "code",
   "execution_count": 6,
   "metadata": {},
   "outputs": [
    {
     "data": {
      "image/png": "[encoded data removed]",
      "text/plain": [
       "<Figure size 1080x432 with 1 Axes>"
      ]
     },
     "metadata": {
      "needs_background": "light"
     },
     "output_type": "display_data"
    },
    {
     "name": "stdout",
     "output_type": "stream",
     "text": [
      "Mean AUC = 0.718939393939394\n"
     ]
    }
   ],
   "source": [
    "classifier = GradientBoostingClassifier(n_estimators = 500, learning_rate = 0.01, max_depth = 2, random_state = 1)\n",
    "classifier.fit(X_train, y_train)\n",
    "\n",
    "kfold = KFold(n_splits=10, shuffle=True, random_state=seed)\n",
    "\n",
    "clf_rfc = GradientBoostingClassifier(n_estimators = 500, learning_rate = 0.01, max_depth = 2, random_state = 1)\n",
    "\n",
    "tprs = []\n",
    "aucs = []\n",
    "\n",
    "mean_fpr = np.linspace(0,1,100)\n",
    "\n",
    "fig, ax = plt.subplots()\n",
    "\n",
    "for i, (train,test) in enumerate(kfold.split(X,y)):\n",
    "    clf_rfc.fit(X.loc[train], y[train])\n",
    "    y_proba = clf_rfc.predict_proba(X.loc[test]) \n",
    "    fpr, tpr, _ = roc_curve(y[test], y_proba[:,1])\n",
    "    \n",
    "    interp_tpr = np.interp(mean_fpr, fpr, tpr)\n",
    "    interp_tpr[0] = 0.0\n",
    "    \n",
    "    tprs.append(interp_tpr)\n",
    "    aucs.append(auc(fpr,tpr))\n",
    "    \n",
    "    ax.plot(\n",
    "        fpr, tpr,\n",
    "        label='ROC fold ' + str(i+1) +  ' - AUC = ' + str(np.round(auc(fpr,tpr),2)),\n",
    "        lw=1,\n",
    "        alpha=0.3)\n",
    "\n",
    "ax.plot([0, 1], [0, 1], linestyle=\"--\", lw=2, color=\"r\", label=\"Chance\", alpha=0.8)\n",
    "\n",
    "mean_tpr = np.mean(tprs, axis=0)\n",
    "mean_tpr[-1] = 1.0\n",
    "mean_auc = auc(mean_fpr, mean_tpr)\n",
    "std_auc = np.std(aucs)\n",
    "\n",
    "# Plot mean roc curve auc\n",
    "ax.plot(\n",
    "    mean_fpr,\n",
    "    mean_tpr,\n",
    "    color=\"b\",\n",
    "    label=r\"Mean ROC (AUC = %0.2f $\\pm$ %0.2f)\" % (mean_auc, std_auc),\n",
    "    lw=2,\n",
    "    alpha=0.8,\n",
    ")\n",
    "\n",
    "ax.set(\n",
    "    xlim=[-0.05, 1.05],\n",
    "    ylim=[-0.05, 1.05],\n",
    "    title=\"Receiver operating characteristic example\",\n",
    ")\n",
    "\n",
    "ax.legend(loc=\"lower right\")\n",
    "plt.rcParams['figure.figsize'] = [15, 6]\n",
    "plt.show()\n",
    "print('Mean AUC = ' + str(mean_auc))"
   ]
  },
  {
   "cell_type": "code",
   "execution_count": 7,
   "metadata": {},
   "outputs": [
    {
     "name": "stdout",
     "output_type": "stream",
     "text": [
      "[[24  4]\n",
      " [ 8  3]]\n"
     ]
    },
    {
     "data": {
      "text/plain": [
       "0.6923076923076923"
      ]
     },
     "execution_count": 7,
     "metadata": {},
     "output_type": "execute_result"
    }
   ],
   "source": [
    "y_pred = classifier.predict(X_test)\n",
    "cm = confusion_matrix(y_test, y_pred)\n",
    "print(cm)\n",
    "accuracy_score(y_test, y_pred)"
   ]
  },
  {
   "cell_type": "markdown",
   "metadata": {},
   "source": [
    "**7.1.** Perform a grid search cross-validation on the Gradient boosting methods, changing the value of the learning rate (0.01 to 0.5) and the number of estimators (50-500). Consider the mean AUC of the folds as the performance measure."
   ]
  },
  {
   "cell_type": "code",
   "execution_count": 8,
   "metadata": {
    "scrolled": true
   },
   "outputs": [
    {
     "data": {
      "text/plain": [
       "GridSearchCV(cv=10, estimator=GradientBoostingClassifier(),\n",
       "             param_grid=[{'learning_rate': [0.01, 0.1, 0.2, 0.3, 0.4, 0.5],\n",
       "                          'n_estimators': [50, 100, 200, 300, 400, 500]}],\n",
       "             refit='roc_auc', scoring=['roc_auc'])"
      ]
     },
     "execution_count": 8,
     "metadata": {},
     "output_type": "execute_result"
    }
   ],
   "source": [
    "from sklearn.model_selection import GridSearchCV\n",
    "tuned_parameters = [{'learning_rate': [0.01, 0.1, 0.2, 0.3, 0.40, 0.5], 'n_estimators' : [50, 100, 200, 300, 400, 500]}]\n",
    "clf = GridSearchCV(GradientBoostingClassifier(), tuned_parameters, cv=10, refit = 'roc_auc', scoring=['roc_auc'])\n",
    "clf.fit(X_train,y_train)"
   ]
  },
  {
   "cell_type": "code",
   "execution_count": 9,
   "metadata": {},
   "outputs": [
    {
     "name": "stdout",
     "output_type": "stream",
     "text": [
      "Best parameters : {'learning_rate': 0.4, 'n_estimators': 50}\n"
     ]
    }
   ],
   "source": [
    "print('Best parameters : ' + str(clf.best_params_))\n",
    "bestlr = clf.best_params_.get(\"learning_rate\")\n",
    "bestnt = clf.best_params_.get(\"n_estimators\")"
   ]
  },
  {
   "cell_type": "code",
   "execution_count": 10,
   "metadata": {},
   "outputs": [
    {
     "name": "stderr",
     "output_type": "stream",
     "text": [
      "/Users/luislopes/opt/anaconda3/envs/bootcamp/lib/python3.9/site-packages/sklearn/base.py:445: UserWarning: X does not have valid feature names, but RFECV was fitted with feature names\n",
      "  warnings.warn(\n",
      "/Users/luislopes/opt/anaconda3/envs/bootcamp/lib/python3.9/site-packages/sklearn/base.py:445: UserWarning: X does not have valid feature names, but RFECV was fitted with feature names\n",
      "  warnings.warn(\n"
     ]
    },
    {
     "name": "stdout",
     "output_type": "stream",
     "text": [
      "Optimal number of features : 30\n"
     ]
    }
   ],
   "source": [
    "from sklearn.pipeline import Pipeline\n",
    "from sklearn.feature_selection import RFECV\n",
    "rfecv = RFECV(estimator=classifier, \n",
    "              step=1, \n",
    "              cv=5, \n",
    "              scoring = 'roc_auc')\n",
    "rfecv.fit(X,y)\n",
    "pipeline  = Pipeline([('feature_sele',rfecv),\n",
    "                      ('clf_cv',clf)])\n",
    "\n",
    "pipeline.fit(X_train, y_train)\n",
    "pipeline.predict(X_test)\n",
    "\n",
    "print(\"Optimal number of features : %d\" % rfecv.n_features_)"
   ]
  },
  {
   "cell_type": "code",
   "execution_count": 11,
   "metadata": {},
   "outputs": [
    {
     "name": "stdout",
     "output_type": "stream",
     "text": [
      "['bicarbonate_min', 'bicarbonate_max', 'creatinine_min', 'creatinine_max', 'chloride_min', 'chloride_max', 'glucose_min', 'glucose_max', 'hematocrit_min', 'hematocrit_max', 'platelet_min', 'platelet_max', 'potassium_min', 'potassium_max', 'sodium_min', 'sodium_max', 'bun_min', 'bun_max', 'wbc_min', 'wbc_max', 'admission_age', 'los_icu', 'eth_grp_asian', 'eth_grp_hispanic', 'eth_grp_native', 'eth_grp_other', 'eth_grp_unknown', 'eth_grp_white', 'gender_F', 'gender_M']\n"
     ]
    }
   ],
   "source": [
    "features=list(X.columns[rfecv.support_])\n",
    "print(features)"
   ]
  },
  {
   "cell_type": "markdown",
   "metadata": {},
   "source": [
    "**7.2.** Plot a scatterplot of the learning rate versus the number of estimators, with the mean AUC as the color gradient."
   ]
  },
  {
   "cell_type": "code",
   "execution_count": 12,
   "metadata": {},
   "outputs": [],
   "source": [
    "kfold = KFold(n_splits=10, shuffle=True, random_state=seed)\n",
    "estimators = [50, 100, 200, 300, 400, 500]\n",
    "learningrate = [0.01, 0.1, 0.2, 0.3, 0.40, 0.5]  \n",
    "m_auc = []\n",
    "\n",
    "for e in range(0,6,1):\n",
    "    for l in range(0,6,1):\n",
    "     \n",
    "        clf_rfc = GradientBoostingClassifier(n_estimators = estimators[e], learning_rate = learningrate[l], max_depth = 2, random_state = 1) \n",
    "        tprs = []\n",
    "        aucs = []\n",
    "\n",
    "        mean_fpr = np.linspace(0,1,100)\n",
    "\n",
    "        for i, (train,test) in enumerate(kfold.split(X,y)):\n",
    "            clf_rfc.fit(X.loc[train], y[train]) \n",
    "            y_proba = clf_rfc.predict_proba(X.loc[test]) \n",
    "            fpr, tpr, _ = roc_curve(y[test], y_proba[:,1])\n",
    "\n",
    "            interp_tpr = np.interp(mean_fpr, fpr, tpr)\n",
    "            interp_tpr[0] = 0.0\n",
    "\n",
    "            tprs.append(interp_tpr)\n",
    "            aucs.append(auc(fpr,tpr))\n",
    "\n",
    "        mean_tpr = np.mean(tprs, axis=0)\n",
    "        mean_tpr[-1] = 1.0\n",
    "        mean_auc = auc(mean_fpr, mean_tpr)\n",
    "        std_auc = np.std(aucs)\n",
    "        \n",
    "        m_auc.append(mean_auc)       "
   ]
  },
  {
   "cell_type": "code",
   "execution_count": 13,
   "metadata": {},
   "outputs": [
    {
     "data": {
      "image/png": "[encoded data removed]",
      "text/plain": [
       "<Figure size 1080x432 with 2 Axes>"
      ]
     },
     "metadata": {
      "needs_background": "light"
     },
     "output_type": "display_data"
    }
   ],
   "source": [
    "cv_results = pd.DataFrame(clf.cv_results_)\n",
    "plt.scatter(cv_results['param_learning_rate'], cv_results['param_n_estimators'], c = m_auc, cmap = 'Reds')\n",
    "cbar = plt.colorbar(orientation='vertical')\n",
    "plt.xlabel('Learning rate')\n",
    "plt.ylabel('Number of Estimators')\n",
    "plt.show()"
   ]
  },
  {
   "cell_type": "markdown",
   "metadata": {},
   "source": [
    "**8.1.** Perform forward stepwise selection on the dataset. Use the best parameters of the gradient boosting method obtained in **7.1.**."
   ]
  },
  {
   "cell_type": "code",
   "execution_count": 14,
   "metadata": {},
   "outputs": [
    {
     "data": {
      "text/plain": [
       "GradientBoostingClassifier(learning_rate=0.4, max_depth=2, n_estimators=50,\n",
       "                           random_state=1)"
      ]
     },
     "execution_count": 14,
     "metadata": {},
     "output_type": "execute_result"
    }
   ],
   "source": [
    "clf8 = GradientBoostingClassifier(n_estimators = bestnt, learning_rate = bestlr, max_depth = 2, random_state = 1)\n",
    "clf8.fit(X_train,y_train)"
   ]
  },
  {
   "cell_type": "code",
   "execution_count": 15,
   "metadata": {},
   "outputs": [
    {
     "name": "stdout",
     "output_type": "stream",
     "text": [
      "Iterating for 1/31 features.\n",
      "Iterating for 2/31 features.\n",
      "Iterating for 3/31 features.\n",
      "Iterating for 4/31 features.\n",
      "Iterating for 5/31 features.\n",
      "Iterating for 6/31 features.\n",
      "Iterating for 7/31 features.\n",
      "Iterating for 8/31 features.\n",
      "Iterating for 9/31 features.\n",
      "Iterating for 10/31 features.\n",
      "Iterating for 11/31 features.\n",
      "Iterating for 12/31 features.\n",
      "Iterating for 13/31 features.\n",
      "Iterating for 14/31 features.\n",
      "Iterating for 15/31 features.\n",
      "Iterating for 16/31 features.\n",
      "Iterating for 17/31 features.\n",
      "Iterating for 18/31 features.\n",
      "Iterating for 19/31 features.\n",
      "Iterating for 20/31 features.\n",
      "Iterating for 21/31 features.\n",
      "Iterating for 22/31 features.\n",
      "Iterating for 23/31 features.\n",
      "Iterating for 24/31 features.\n",
      "Iterating for 25/31 features.\n",
      "Iterating for 26/31 features.\n",
      "Iterating for 27/31 features.\n",
      "Iterating for 28/31 features.\n",
      "Iterating for 29/31 features.\n",
      "Iterating for 30/31 features.\n",
      "Iterating for 31/31 features.\n"
     ]
    },
    {
     "data": {
      "text/html": [
       "<div>\n",
       "<style scoped>\n",
       "    .dataframe tbody tr th:only-of-type {\n",
       "        vertical-align: middle;\n",
       "    }\n",
       "\n",
       "    .dataframe tbody tr th {\n",
       "        vertical-align: top;\n",
       "    }\n",
       "\n",
       "    .dataframe thead th {\n",
       "        text-align: right;\n",
       "    }\n",
       "</style>\n",
       "<table border=\"1\" class=\"dataframe\">\n",
       "  <thead>\n",
       "    <tr style=\"text-align: right;\">\n",
       "      <th></th>\n",
       "      <th>k</th>\n",
       "      <th>features</th>\n",
       "      <th>rsq</th>\n",
       "      <th>rss</th>\n",
       "      <th>adjr2</th>\n",
       "      <th>aic</th>\n",
       "      <th>bic</th>\n",
       "    </tr>\n",
       "  </thead>\n",
       "  <tbody>\n",
       "    <tr>\n",
       "      <th>0</th>\n",
       "      <td>1</td>\n",
       "      <td>bicarbonate_min</td>\n",
       "      <td>2.845546e-02</td>\n",
       "      <td>26.345556</td>\n",
       "      <td>0.020745</td>\n",
       "      <td>164.914738</td>\n",
       "      <td>170.618799</td>\n",
       "    </tr>\n",
       "    <tr>\n",
       "      <th>1</th>\n",
       "      <td>1</td>\n",
       "      <td>bicarbonate_max</td>\n",
       "      <td>3.540512e-02</td>\n",
       "      <td>26.157100</td>\n",
       "      <td>0.027750</td>\n",
       "      <td>163.995836</td>\n",
       "      <td>169.699897</td>\n",
       "    </tr>\n",
       "    <tr>\n",
       "      <th>2</th>\n",
       "      <td>1</td>\n",
       "      <td>creatinine_min</td>\n",
       "      <td>1.258294e-02</td>\n",
       "      <td>26.775974</td>\n",
       "      <td>0.004746</td>\n",
       "      <td>166.989028</td>\n",
       "      <td>172.693088</td>\n",
       "    </tr>\n",
       "    <tr>\n",
       "      <th>3</th>\n",
       "      <td>1</td>\n",
       "      <td>creatinine_max</td>\n",
       "      <td>4.783308e-03</td>\n",
       "      <td>26.987478</td>\n",
       "      <td>-0.003115</td>\n",
       "      <td>167.996131</td>\n",
       "      <td>173.700191</td>\n",
       "    </tr>\n",
       "    <tr>\n",
       "      <th>4</th>\n",
       "      <td>1</td>\n",
       "      <td>chloride_min</td>\n",
       "      <td>9.774513e-07</td>\n",
       "      <td>27.117161</td>\n",
       "      <td>-0.007936</td>\n",
       "      <td>168.609738</td>\n",
       "      <td>174.313798</td>\n",
       "    </tr>\n",
       "    <tr>\n",
       "      <th>...</th>\n",
       "      <td>...</td>\n",
       "      <td>...</td>\n",
       "      <td>...</td>\n",
       "      <td>...</td>\n",
       "      <td>...</td>\n",
       "      <td>...</td>\n",
       "      <td>...</td>\n",
       "    </tr>\n",
       "    <tr>\n",
       "      <th>1</th>\n",
       "      <td>29</td>\n",
       "      <td>eth_grp_hispanic, wbc_min, glucose_min, bicarb...</td>\n",
       "      <td>2.503984e-01</td>\n",
       "      <td>20.327086</td>\n",
       "      <td>0.038390</td>\n",
       "      <td>185.718541</td>\n",
       "      <td>268.427419</td>\n",
       "    </tr>\n",
       "    <tr>\n",
       "      <th>2</th>\n",
       "      <td>29</td>\n",
       "      <td>eth_grp_hispanic, wbc_min, glucose_min, bicarb...</td>\n",
       "      <td>2.503984e-01</td>\n",
       "      <td>20.327086</td>\n",
       "      <td>0.038390</td>\n",
       "      <td>185.718541</td>\n",
       "      <td>268.427419</td>\n",
       "    </tr>\n",
       "    <tr>\n",
       "      <th>0</th>\n",
       "      <td>30</td>\n",
       "      <td>eth_grp_hispanic, wbc_min, glucose_min, bicarb...</td>\n",
       "      <td>2.504128e-01</td>\n",
       "      <td>20.326697</td>\n",
       "      <td>0.028596</td>\n",
       "      <td>187.716091</td>\n",
       "      <td>273.276998</td>\n",
       "    </tr>\n",
       "    <tr>\n",
       "      <th>1</th>\n",
       "      <td>30</td>\n",
       "      <td>eth_grp_hispanic, wbc_min, glucose_min, bicarb...</td>\n",
       "      <td>2.504128e-01</td>\n",
       "      <td>20.326697</td>\n",
       "      <td>0.028596</td>\n",
       "      <td>187.716091</td>\n",
       "      <td>273.276998</td>\n",
       "    </tr>\n",
       "    <tr>\n",
       "      <th>0</th>\n",
       "      <td>31</td>\n",
       "      <td>eth_grp_hispanic, wbc_min, glucose_min, bicarb...</td>\n",
       "      <td>2.504128e-01</td>\n",
       "      <td>20.326697</td>\n",
       "      <td>0.028596</td>\n",
       "      <td>187.716091</td>\n",
       "      <td>273.276998</td>\n",
       "    </tr>\n",
       "  </tbody>\n",
       "</table>\n",
       "<p>496 rows × 7 columns</p>\n",
       "</div>"
      ],
      "text/plain": [
       "     k                                           features           rsq  \\\n",
       "0    1                                    bicarbonate_min  2.845546e-02   \n",
       "1    1                                    bicarbonate_max  3.540512e-02   \n",
       "2    1                                     creatinine_min  1.258294e-02   \n",
       "3    1                                     creatinine_max  4.783308e-03   \n",
       "4    1                                       chloride_min  9.774513e-07   \n",
       "..  ..                                                ...           ...   \n",
       "1   29  eth_grp_hispanic, wbc_min, glucose_min, bicarb...  2.503984e-01   \n",
       "2   29  eth_grp_hispanic, wbc_min, glucose_min, bicarb...  2.503984e-01   \n",
       "0   30  eth_grp_hispanic, wbc_min, glucose_min, bicarb...  2.504128e-01   \n",
       "1   30  eth_grp_hispanic, wbc_min, glucose_min, bicarb...  2.504128e-01   \n",
       "0   31  eth_grp_hispanic, wbc_min, glucose_min, bicarb...  2.504128e-01   \n",
       "\n",
       "          rss     adjr2         aic         bic  \n",
       "0   26.345556  0.020745  164.914738  170.618799  \n",
       "1   26.157100  0.027750  163.995836  169.699897  \n",
       "2   26.775974  0.004746  166.989028  172.693088  \n",
       "3   26.987478 -0.003115  167.996131  173.700191  \n",
       "4   27.117161 -0.007936  168.609738  174.313798  \n",
       "..        ...       ...         ...         ...  \n",
       "1   20.327086  0.038390  185.718541  268.427419  \n",
       "2   20.327086  0.038390  185.718541  268.427419  \n",
       "0   20.326697  0.028596  187.716091  273.276998  \n",
       "1   20.326697  0.028596  187.716091  273.276998  \n",
       "0   20.326697  0.028596  187.716091  273.276998  \n",
       "\n",
       "[496 rows x 7 columns]"
      ]
     },
     "execution_count": 15,
     "metadata": {},
     "output_type": "execute_result"
    }
   ],
   "source": [
    "import statsmodels.api as sm\n",
    "models_best_forward = pd.DataFrame(columns=['k', \"features\", \"rsq\", \"rss\", \"adjr2\", 'aic', 'bic'])\n",
    "\n",
    "predictors = []\n",
    "\n",
    "for k in range(1, X.shape[1] + 1):\n",
    "    print('Iterating for {}/{} features.'.format(k, X.shape[1]))\n",
    "    remaining_predictors = [p for p in X.columns if p not in predictors]\n",
    "    models_best_forward_iter = pd.DataFrame(columns=['feature_single', \"features\", \"rsq\", \"rss\", \"adjr2\", 'aic', 'bic'])\n",
    "    count = 0\n",
    "    for p in remaining_predictors:\n",
    "        combo = predictors + [p]\n",
    "        iter_X = X[combo]\n",
    "        model = sm.OLS(y,sm.add_constant(iter_X)).fit()\n",
    "\n",
    "    #        y_pred = regr.predict(iter_X)\n",
    "        iter_vals = [\n",
    "            p,\n",
    "            ', '.join(combo),\n",
    "            model.rsquared,      # rsq\n",
    "            sum(model.resid**2), # rss\n",
    "            model.rsquared_adj,  # adjr2\n",
    "            model.aic,           # aic\n",
    "            model.bic            # bic\n",
    "        ]\n",
    "        models_best_forward_iter.loc[count] = pd.DataFrame(\n",
    "            [iter_vals],\n",
    "            columns = ['feature_single', \"features\", \"rsq\", \"rss\", \"adjr2\", 'aic', 'bic']\n",
    "        ).iloc[0,]\n",
    "        count += 1\n",
    "\n",
    "    predictors.append(models_best_forward_iter.loc[models_best_forward_iter['rsq'].argmax()]['feature_single'])\n",
    "    \n",
    "    models_best_forward_iter = models_best_forward_iter.rename(columns={\"feature_single\": \"k\"})\n",
    "    models_best_forward_iter['k'] = k\n",
    "    models_best_forward = models_best_forward.append(models_best_forward_iter)\n",
    "    \n",
    "models_best_forward"
   ]
  },
  {
   "cell_type": "code",
   "execution_count": 16,
   "metadata": {},
   "outputs": [
    {
     "data": {
      "image/png": "[encoded data removed]",
      "text/plain": [
       "<Figure size 1152x576 with 4 Axes>"
      ]
     },
     "metadata": {
      "needs_background": "light"
     },
     "output_type": "display_data"
    }
   ],
   "source": [
    "models_best3 = models_best_forward.copy()\n",
    "models_best3 = models_best3[models_best3['rsq'] == models_best3.groupby('k')['rsq'].transform('max')]\n",
    "models_best3 = models_best3.sort_values(by = 'k')\n",
    "\n",
    "plt.rcParams[\"figure.figsize\"] = (16,8)\n",
    "fig, axs = plt.subplots(2, 2)\n",
    "axs[0, 0].plot(models_best3.k, models_best3.rss)\n",
    "axs[0, 0].set_title('RSS')\n",
    "axs[0, 1].plot(models_best3.k, models_best3.adjr2, 'tab:orange')\n",
    "axs[0, 1].set_title('Adjusted R2')\n",
    "axs[1, 0].plot(models_best3.k, models_best3.aic, 'tab:green')\n",
    "axs[1, 0].set_title('AIC')\n",
    "axs[1, 1].plot(models_best3.k, models_best3.bic, 'tab:red')\n",
    "axs[1, 1].set_title('BIC')\n",
    "\n",
    "for ax in axs.flat:\n",
    "    ax.label_outer()\n",
    "\n",
    "plt.show()"
   ]
  },
  {
   "cell_type": "markdown",
   "metadata": {},
   "source": [
    "**8.2.** Compare and comment the results from **8.1.** with the features importance obtained through the grid search of queastion **7.1.**."
   ]
  },
  {
   "cell_type": "code",
   "execution_count": 17,
   "metadata": {},
   "outputs": [
    {
     "data": {
      "image/png": "[encoded data removed]",
      "text/plain": [
       "<Figure size 1152x576 with 1 Axes>"
      ]
     },
     "metadata": {
      "needs_background": "light"
     },
     "output_type": "display_data"
    }
   ],
   "source": [
    "feature_importance = clf8.feature_importances_*100\n",
    "\n",
    "rel_imp = pd.Series(feature_importance, index = X.columns).sort_values(inplace = False)\n",
    "\n",
    "rel_imp.T.plot(kind = 'barh', \n",
    "               color = 'r', )\n",
    "\n",
    "plt.xlabel('Variable Importance')\n",
    "\n",
    "plt.gca().legend_ = None"
   ]
  },
  {
   "cell_type": "markdown",
   "metadata": {},
   "source": [
    "It can be seen that while the RSS consistently reduces, the remaining scores are the best for about 6 features. This shows that using all features may not always provide the best model. From the graphic above we can also verify that there are some useless features with no importance value to the model."
   ]
  },
  {
   "cell_type": "markdown",
   "metadata": {},
   "source": [
    "## 3) Theoretical Questions"
   ]
  },
  {
   "cell_type": "markdown",
   "metadata": {},
   "source": [
    "**1.** Consider a dataset where best subset, forward stepwise and backward stepwise selection will be performed. For each of the 3 approaches, we obtain $p+1$ models, $p$ being the total number of predictors. This means that each approach has a model with 0 predictors, one with 1 predictor, one with 2 predictor, up until one model with $p$ predictors. Answer and justify the following questions:\n",
    "\n",
    "**a)** Which of the three models with $k, \\, \\forall_{k \\in [0,p]}$ predictors has the smallest training RSS?"
   ]
  },
  {
   "cell_type": "markdown",
   "metadata": {},
   "source": [
    "O método com o menor training RSS é o best subset visto que considera todas as hipóteses, porém, pode acontecer que os outros métodos escolham o mesmo modelo."
   ]
  },
  {
   "cell_type": "markdown",
   "metadata": {},
   "source": [
    "**b)** Which of the three models with $k, \\, \\forall_{k \\in [0,p]}$ predictors has the smallest test RSS?"
   ]
  },
  {
   "cell_type": "markdown",
   "metadata": {},
   "source": [
    "É díficil de prever.\n",
    "É possível que no best subset haja overfitting e pode acontecer que o modelo escolhido pelos outros métodos tenham melhor desempenho no teste."
   ]
  },
  {
   "cell_type": "markdown",
   "metadata": {},
   "source": [
    "**c)** Evaluate the following statements with *true* or *false*. Justify your answers.\n",
    "\n",
    "    i. The predictors in the k-variable model identified by forward stepwise selection are a subset of the predictors in the (k+1)-variable model identified by forward stepwise selection."
   ]
  },
  {
   "cell_type": "markdown",
   "metadata": {},
   "source": [
    "True, as the lecture notes say ' For k=0,...,p-1: consider all p - k models that augment the predictors with one additional predictor."
   ]
  },
  {
   "cell_type": "markdown",
   "metadata": {},
   "source": [
    "    ii. The predictors in the k-variable model identified by backward stepwise selection are a subset of the predictors in the (k + 1)-variable model identified by backward stepwise selection."
   ]
  },
  {
   "cell_type": "markdown",
   "metadata": {},
   "source": [
    "True, the model with k predictors is obtained by removing one predictor from the model with (k+1) predictors."
   ]
  },
  {
   "cell_type": "markdown",
   "metadata": {},
   "source": [
    "    iii. The predictors in the k-variable model identified by backward stepwise selection are a subset of the predictors in the (k + 1)-variable model identified by forward stepwise selection."
   ]
  },
  {
   "cell_type": "markdown",
   "metadata": {},
   "source": [
    "False, there is no direct relation between the models obtained from the 2 methods."
   ]
  },
  {
   "cell_type": "markdown",
   "metadata": {},
   "source": [
    "    iv. The predictors in the k-variable model identified by forward stepwise selection are a subset of the predictors in the (k+1)-variable model identified by backward stepwise selection."
   ]
  },
  {
   "cell_type": "markdown",
   "metadata": {},
   "source": [
    "False, there is no direct relation between the models obtained from the 2 methods."
   ]
  },
  {
   "cell_type": "markdown",
   "metadata": {},
   "source": [
    "    v. The predictors in the k-variable model identified by best subset selection are a subset of the predictors in the (k + 1)-variable model identified by best subset selection."
   ]
  },
  {
   "cell_type": "markdown",
   "metadata": {},
   "source": [
    "False, the model with (k+1) predictors is obtained by selecting among all possible models with (k+1) predictors, and so does not necessarily contain all the predictors selected for the k-variable model."
   ]
  },
  {
   "cell_type": "markdown",
   "metadata": {},
   "source": [
    "**2.** Ridge regression tends to give similar coefficient values to correlated variables, whereas lasso regression may give substantially different coefficients to correlated variables. This questions explores this property in a simplified setting.\n",
    "\n",
    "Suppose that $n=2$, $p=2$, $x_{11} = x_{12}$, $x_{21} = x_{22}$. Moreover, suppose that $y_1 + y_2 = 0$ and $x_{11} + x_{21} = 0$ and $x_{12} + x_{22} = 0$, meaning that the estimate for the intercept in a least squares, ridge regression, or lasso regression is zero: $\\hat{\\beta} = 0$.\n",
    "\n",
    "**a)** Write the ridge regression optimization problem in this setting."
   ]
  },
  {
   "cell_type": "markdown",
   "metadata": {},
   "source": [
    "Com x11=x12=x1 e x21=x21=x2:\n",
    "\n",
    "(y1− 𝛽1.𝑥1− 𝛽2.𝑥1)^2 + (y2− β1.𝑥2− β2.𝑥2)^2 + λ (𝛽1^2+  𝛽2^2)"
   ]
  },
  {
   "cell_type": "markdown",
   "metadata": {},
   "source": [
    "**b)** Prove that in this setting, the ridge regression coefficient estimates satisfy $\\hat{\\beta}_1 = \\hat{\\beta}_2$."
   ]
  },
  {
   "cell_type": "markdown",
   "metadata": {},
   "source": [
    "Derivando a alínea anterior em função a 𝛽1:\n",
    "(2.𝛽1.x1^2 -2.x1.y1 +2.𝛽2.x1^2) + (2.𝛽1.x2^2 -2.x2.y2 +2.𝛽2.x2^2) +2.λ.𝛽1 = 0\n",
    "\n",
    "Derivando a alínea anterior em função a 𝛽1:\n",
    "(2.𝛽2.x1^2 -2.x1.y1 +2.𝛽1.x1^2) + (2.𝛽2.x2^2 -2.x2.y2 +2.𝛽1.x2^2) +2.λ.𝛽2 = 0\n",
    "\n",
    "Que igualando e simplificando resulta em 𝛽1=𝛽2"
   ]
  },
  {
   "cell_type": "markdown",
   "metadata": {},
   "source": [
    "**c)** Write the lasso regression optimization problem in this setting."
   ]
  },
  {
   "cell_type": "markdown",
   "metadata": {},
   "source": [
    "(y1− 𝛽1.𝑥1− 𝛽2.𝑥1)^2 + (y2− β1.𝑥2− β2.𝑥2)^2 + λ.(|β1|+|β2|)"
   ]
  },
  {
   "cell_type": "markdown",
   "metadata": {},
   "source": [
    "**d)** Prove that in this setting, the lasso regression coefficients $\\hat{\\beta}_1$ and $\\hat{\\beta}_2$ are not unique, meaning that there are many possible solutions to the optimization problem in (c). Describe these solutions."
   ]
  },
  {
   "cell_type": "markdown",
   "metadata": {},
   "source": [
    "Alternativamente:\n",
    "(y1− 𝛽1.𝑥1− 𝛽2.𝑥1)^2 + (y2− β1.𝑥2− β2.𝑥2)^2  e (|β1|+|β2|) <= s \n",
    "Que podemos simplificar para:\n",
    "2.(y1-(β1+β2))^2 ≥ 0\n",
    "e tem as possíveis soluções:\n",
    "{(β1,β2): (β1+β2=s e β1,β2≥0) ⋃ (β1+β2=−s e β1,β2≤0) }"
   ]
  },
  {
   "cell_type": "markdown",
   "metadata": {},
   "source": [
    "**3.** Draw an example of a partition of two-dimensional feature space that could result from recursive binary splitting. Your example should contain at least six regions. Draw a decision tree corresponding to this partition. Be sure to label all aspects of your figures, including the regions R1, R2,..., the cutpoints t1, t2,..., and so forth.\n",
    "\n",
    "If you prefer you can draw it by hand or in any software and use a scan of it."
   ]
  },
  {
   "cell_type": "code",
   "execution_count": null,
   "metadata": {},
   "outputs": [],
   "source": [
    "import pandas as pd\n",
    "import numpy as np\n",
    "import matplotlib as mpl\n",
    "import matplotlib.pyplot as plt\n",
    "import graphviz\n",
    "from matplotlib.pyplot import *"
   ]
  },
  {
   "cell_type": "code",
   "execution_count": 64,
   "metadata": {},
   "outputs": [
    {
     "data": {
      "image/png": "[encoded data removed]",
      "text/plain": [
       "<Figure size 432x288 with 1 Axes>"
      ]
     },
     "metadata": {
      "needs_background": "light"
     },
     "output_type": "display_data"
    }
   ],
   "source": [
    "x1, y1 = [25, 25], [0, 100]\n",
    "plt.plot(x1, y1, 'k')\n",
    "matplotlib.pyplot.text(26, 100, 't1')\n",
    "matplotlib.pyplot.text(10, 70, 'R1')\n",
    "\n",
    "x2, y2 = [0, 75], [40, 40]\n",
    "plt.plot(x2, y2,'k')\n",
    "matplotlib.pyplot.text(0,42, 't2')\n",
    "matplotlib.pyplot.text(10, 20, 'R2')\n",
    "\n",
    "x3, y3 = [25, 75], [70, 70]\n",
    "plt.plot(x3, y3,'k')\n",
    "matplotlib.pyplot.text(50,72, 't3')\n",
    "matplotlib.pyplot.text(50, 20, 'R3')\n",
    "\n",
    "matplotlib.pyplot.text(50, 55, 'R4')\n",
    "matplotlib.pyplot.text(50, 85, 'R5')\n",
    "\n",
    "x4, y4 = [75, 75], [0,100]\n",
    "plt.plot(x4, y4,'k')\n",
    "matplotlib.pyplot.text(76,100, 't4')\n",
    "matplotlib.pyplot.text(86, 50, 'R6')\n",
    "\n",
    "plt.xlim([-2,102])\n",
    "plt.ylim([-2,105])\n",
    "plt.show()"
   ]
  },
  {
   "cell_type": "markdown",
   "metadata": {},
   "source": [
    "###### **4.** In 2 dimensions, a linear decision boundary takes the form $\\beta_0 + \\beta_1 X_1 + \\beta_2 X_2 = 0$. Consider a nn-linear decision boundary:\n",
    "\n",
    "**a)** Sketch the curve\n",
    "\n",
    "$$(1 + X_1)^2 + (2 - X_2)^2 = 4$$\n",
    "\n",
    "Additionally, indicate on your sketch the set of points that verify the condition\n",
    "\n",
    "$$(1 + X_1)^2 + (2 - X_2)^2 > 4$$\n",
    "\n",
    "and the condition\n",
    "\n",
    "$$(1 + X_1)^2 + (2 - X_2)^2 \\leq 4$$"
   ]
  },
  {
   "cell_type": "code",
   "execution_count": 31,
   "metadata": {},
   "outputs": [
    {
     "data": {
      "image/png": "[encoded data removed]",
      "text/plain": [
       "<Figure size 432x288 with 1 Axes>"
      ]
     },
     "metadata": {
      "needs_background": "light"
     },
     "output_type": "display_data"
    }
   ],
   "source": [
    "figure, axes = plt.subplots()\n",
    "c\n",
    "\n",
    "axes.set_aspect(1)\n",
    "axes.add_artist(draw_circle)\n",
    "plt.title('Circle')\n",
    "plt.xlim([-4, 2])\n",
    "plt.ylim([-1, 5])\n",
    "plt.xlabel(\"X1\")\n",
    "plt.ylabel(\"x2\")\n",
    "matplotlib.pyplot.text(-1, 2, '<4')\n",
    "matplotlib.pyplot.text(1,4 , '>4')\n",
    "plt.show()"
   ]
  },
  {
   "cell_type": "markdown",
   "metadata": {},
   "source": [
    "**b)** Suppose that a classifier assigns an observation to the blue class if $(1 + X_1)^2 + (2 - X_2)^2 > 4$ and to the red class otherwise. To what class are the following observations classified? (0,0), (-1,1), (2,2), (3,8)"
   ]
  },
  {
   "cell_type": "markdown",
   "metadata": {},
   "source": [
    "Substituindo as coordenadas na equação obtemos que para (0,0) se obtém 5>4, logo é azul.\n",
    "Com (-1,1) obtém-se 1>4, logo é vermelho.\n",
    "Com (2,2) obtém-se 9>4, logo é azul.\n",
    "Com (3,8) obtém-se 52>4, logo é azul."
   ]
  },
  {
   "cell_type": "markdown",
   "metadata": {},
   "source": [
    "**c)** Prove that while the decision boundary in (b) is not linear in terms of $X_1$ and $X_2$, it is linear in terms of $X_1$, $X_1^2$, $X_2$, and $X_2^2$."
   ]
  },
  {
   "cell_type": "markdown",
   "metadata": {},
   "source": [
    "Da equação:\n",
    "(1+𝑋1)^2+(2−𝑋2)^2=4\n",
    "ôbtém-se:\n",
    "𝑋1^2 + 2*𝑋1 - 4*𝑋2 + 𝑋2^2 = -1\n",
    "Que é linear em função de 𝑋1 , 𝑋1^2, 𝑋2, e 𝑋2^2."
   ]
  },
  {
   "cell_type": "markdown",
   "metadata": {},
   "source": [
    "# 4) Laboratory Questions\n",
    "\n",
    "What are the advantages and disadvantages of relational dabases versus graph databases, and when should one type be preferred over the other?"
   ]
  },
  {
   "cell_type": "markdown",
   "metadata": {},
   "source": [
    "A grande diferença entre ambas, é a forma como a relação entre as entidades é guardada. Nas \"graph databases\" as relações são guardadas em niveis de recorde individual, enquanto que na \"relational databases\" usa estruturas predefinidas, tais como tabelas.\n",
    "\n",
    "As \"relational databases\" são mais rapidas, mesmo quando se lida com um grande valor de dados devido à estrutura dos dados que é conhecido antecipadamente, o que leva também, a uma pegada de memória menor. A estrutura tabular torna as \"relational databases\" uma boa opção para registos com relacionamentos descomplicados.\n",
    "\n",
    "As \"graph databases\" tem ênfase nos relacionamentos, o que ajuda a explorar conjuntos de dados complexos. Dessa forma é possível encontrar conexões inesperadas entre os pontos de dados, tornando este método, a melhor opção para casos onde existe muitos relacionamentos. As relações de mapeamento também tornam as \"graph databases\" uma boa opção para visualizações de dados."
   ]
  }
 ],
 "metadata": {
  "kernelspec": {
   "display_name": "Python 3 (ipykernel)",
   "language": "python",
   "name": "python3"
  },
  "language_info": {
   "codemirror_mode": {
    "name": "ipython",
    "version": 3
   },
   "file_extension": ".py",
   "mimetype": "text/x-python",
   "name": "python",
   "nbconvert_exporter": "python",
   "pygments_lexer": "ipython3",
   "version": "3.9.7"
  }
 },
 "nbformat": 4,
 "nbformat_minor": 4
}
